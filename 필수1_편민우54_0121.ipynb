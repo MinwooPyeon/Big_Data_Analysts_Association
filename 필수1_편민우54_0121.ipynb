{
 "cells": [
  {
   "cell_type": "markdown",
   "id": "8ac45980",
   "metadata": {},
   "source": [
    "### 필수과제1\n",
    "- 영문데이터를 가지고 실제 대소문자를 바꿔보는 str문법 적용하기!\n",
    "- 그 외에 split, 아래에 배우는 find 등 다양한 문법에도 응용!"
   ]
  },
  {
   "cell_type": "code",
   "execution_count": 1,
   "id": "2a23c7d6",
   "metadata": {},
   "outputs": [],
   "source": [
    "import re\n",
    "import pandas as pd"
   ]
  },
  {
   "cell_type": "code",
   "execution_count": 2,
   "id": "6328a228",
   "metadata": {},
   "outputs": [],
   "source": [
    "df = pd.read_csv('spam (1).csv')"
   ]
  },
  {
   "cell_type": "code",
   "execution_count": 3,
   "id": "63603080",
   "metadata": {},
   "outputs": [
    {
     "data": {
      "text/html": [
       "<div>\n",
       "<style scoped>\n",
       "    .dataframe tbody tr th:only-of-type {\n",
       "        vertical-align: middle;\n",
       "    }\n",
       "\n",
       "    .dataframe tbody tr th {\n",
       "        vertical-align: top;\n",
       "    }\n",
       "\n",
       "    .dataframe thead th {\n",
       "        text-align: right;\n",
       "    }\n",
       "</style>\n",
       "<table border=\"1\" class=\"dataframe\">\n",
       "  <thead>\n",
       "    <tr style=\"text-align: right;\">\n",
       "      <th></th>\n",
       "      <th>Unnamed: 0</th>\n",
       "      <th>target</th>\n",
       "      <th>text</th>\n",
       "    </tr>\n",
       "  </thead>\n",
       "  <tbody>\n",
       "    <tr>\n",
       "      <th>0</th>\n",
       "      <td>0</td>\n",
       "      <td>ham</td>\n",
       "      <td>Go until jurong point, crazy.. Available only ...</td>\n",
       "    </tr>\n",
       "    <tr>\n",
       "      <th>1</th>\n",
       "      <td>1</td>\n",
       "      <td>ham</td>\n",
       "      <td>Ok lar... Joking wif u oni...</td>\n",
       "    </tr>\n",
       "    <tr>\n",
       "      <th>2</th>\n",
       "      <td>2</td>\n",
       "      <td>spam</td>\n",
       "      <td>Free entry in 2 a wkly comp to win FA Cup fina...</td>\n",
       "    </tr>\n",
       "    <tr>\n",
       "      <th>3</th>\n",
       "      <td>3</td>\n",
       "      <td>ham</td>\n",
       "      <td>U dun say so early hor... U c already then say...</td>\n",
       "    </tr>\n",
       "    <tr>\n",
       "      <th>4</th>\n",
       "      <td>4</td>\n",
       "      <td>ham</td>\n",
       "      <td>Nah I don't think he goes to usf, he lives aro...</td>\n",
       "    </tr>\n",
       "  </tbody>\n",
       "</table>\n",
       "</div>"
      ],
      "text/plain": [
       "   Unnamed: 0 target                                               text\n",
       "0           0    ham  Go until jurong point, crazy.. Available only ...\n",
       "1           1    ham                      Ok lar... Joking wif u oni...\n",
       "2           2   spam  Free entry in 2 a wkly comp to win FA Cup fina...\n",
       "3           3    ham  U dun say so early hor... U c already then say...\n",
       "4           4    ham  Nah I don't think he goes to usf, he lives aro..."
      ]
     },
     "execution_count": 3,
     "metadata": {},
     "output_type": "execute_result"
    }
   ],
   "source": [
    "df.head()"
   ]
  },
  {
   "cell_type": "code",
   "execution_count": 4,
   "id": "a449a4a5",
   "metadata": {},
   "outputs": [
    {
     "data": {
      "text/plain": [
       "0       GO UNTIL JURONG POINT, CRAZY.. AVAILABLE ONLY ...\n",
       "1                           OK LAR... JOKING WIF U ONI...\n",
       "2       FREE ENTRY IN 2 A WKLY COMP TO WIN FA CUP FINA...\n",
       "3       U DUN SAY SO EARLY HOR... U C ALREADY THEN SAY...\n",
       "4       NAH I DON'T THINK HE GOES TO USF, HE LIVES ARO...\n",
       "                              ...                        \n",
       "5569    THIS IS THE 2ND TIME WE HAVE TRIED 2 CONTACT U...\n",
       "5570                 WILL Ü B GOING TO ESPLANADE FR HOME?\n",
       "5571    PITY, * WAS IN MOOD FOR THAT. SO...ANY OTHER S...\n",
       "5572    THE GUY DID SOME BITCHING BUT I ACTED LIKE I'D...\n",
       "5573                           ROFL. ITS TRUE TO ITS NAME\n",
       "Name: text, Length: 5574, dtype: object"
      ]
     },
     "execution_count": 4,
     "metadata": {},
     "output_type": "execute_result"
    }
   ],
   "source": [
    "# 대문자 전환\n",
    "df.text.str.upper()"
   ]
  },
  {
   "cell_type": "code",
   "execution_count": 8,
   "id": "3831852a",
   "metadata": {},
   "outputs": [
    {
     "data": {
      "text/plain": [
       "0       Go Until Jurong Point, Crazy.. Available Only ...\n",
       "1                           Ok Lar... Joking Wif U Oni...\n",
       "2       Free Entry In 2 A Wkly Comp To Win Fa Cup Fina...\n",
       "3       U Dun Say So Early Hor... U C Already Then Say...\n",
       "4       Nah I Don'T Think He Goes To Usf, He Lives Aro...\n",
       "                              ...                        \n",
       "5569    This Is The 2Nd Time We Have Tried 2 Contact U...\n",
       "5570                 Will Ü B Going To Esplanade Fr Home?\n",
       "5571    Pity, * Was In Mood For That. So...Any Other S...\n",
       "5572    The Guy Did Some Bitching But I Acted Like I'D...\n",
       "5573                           Rofl. Its True To Its Name\n",
       "Name: text, Length: 5574, dtype: object"
      ]
     },
     "execution_count": 8,
     "metadata": {},
     "output_type": "execute_result"
    }
   ],
   "source": [
    "# 앞글자만 대문자 전환\n",
    "df.text.str.title()"
   ]
  },
  {
   "cell_type": "code",
   "execution_count": 5,
   "id": "d7344c91",
   "metadata": {},
   "outputs": [
    {
     "data": {
      "text/plain": [
       "0       go until jurong point, crazy.. available only ...\n",
       "1                           ok lar... joking wif u oni...\n",
       "2       free entry in 2 a wkly comp to win fa cup fina...\n",
       "3       u dun say so early hor... u c already then say...\n",
       "4       nah i don't think he goes to usf, he lives aro...\n",
       "                              ...                        \n",
       "5569    this is the 2nd time we have tried 2 contact u...\n",
       "5570                 will ü b going to esplanade fr home?\n",
       "5571    pity, * was in mood for that. so...any other s...\n",
       "5572    the guy did some bitching but i acted like i'd...\n",
       "5573                           rofl. its true to its name\n",
       "Name: text, Length: 5574, dtype: object"
      ]
     },
     "execution_count": 5,
     "metadata": {},
     "output_type": "execute_result"
    }
   ],
   "source": [
    "# 소문자 전환\n",
    "df.text.str.lower()"
   ]
  },
  {
   "cell_type": "code",
   "execution_count": 7,
   "id": "c1f9208e",
   "metadata": {},
   "outputs": [
    {
     "data": {
      "text/plain": [
       "0       [Go, until, jurong, point,, crazy.., Available...\n",
       "1                    [Ok, lar..., Joking, wif, u, oni...]\n",
       "2       [Free, entry, in, 2, a, wkly, comp, to, win, F...\n",
       "3       [U, dun, say, so, early, hor..., U, c, already...\n",
       "4       [Nah, I, don't, think, he, goes, to, usf,, he,...\n",
       "                              ...                        \n",
       "5569    [This, is, the, 2nd, time, we, have, tried, 2,...\n",
       "5570        [Will, ü, b, going, to, esplanade, fr, home?]\n",
       "5571    [Pity,, *, was, in, mood, for, that., So...any...\n",
       "5572    [The, guy, did, some, bitching, but, I, acted,...\n",
       "5573                    [Rofl., Its, true, to, its, name]\n",
       "Name: text, Length: 5574, dtype: object"
      ]
     },
     "execution_count": 7,
     "metadata": {},
     "output_type": "execute_result"
    }
   ],
   "source": [
    "# split 함수 적용\n",
    "df.text.str.split()"
   ]
  },
  {
   "cell_type": "code",
   "execution_count": 9,
   "id": "e91106a5",
   "metadata": {},
   "outputs": [
    {
     "data": {
      "text/plain": [
       "0       Go until j\n",
       "1       Ok lar... \n",
       "2       Free entry\n",
       "3       U dun say \n",
       "4       Nah I don'\n",
       "           ...    \n",
       "5569    This is th\n",
       "5570    Will ü b g\n",
       "5571    Pity, * wa\n",
       "5572    The guy di\n",
       "5573    Rofl. Its \n",
       "Name: text, Length: 5574, dtype: object"
      ]
     },
     "execution_count": 9,
     "metadata": {},
     "output_type": "execute_result"
    }
   ],
   "source": [
    "# slice 함수 적용\n",
    "df.text.str.slice(0, 10)"
   ]
  },
  {
   "cell_type": "code",
   "execution_count": 15,
   "id": "4372710a",
   "metadata": {},
   "outputs": [
    {
     "data": {
      "text/plain": [
       "0        0\n",
       "1       -1\n",
       "2       -1\n",
       "3       -1\n",
       "4       21\n",
       "        ..\n",
       "5569    -1\n",
       "5570     9\n",
       "5571    -1\n",
       "5572    -1\n",
       "5573    -1\n",
       "Name: text, Length: 5574, dtype: int64"
      ]
     },
     "execution_count": 15,
     "metadata": {},
     "output_type": "execute_result"
    }
   ],
   "source": [
    "# find 함수 적용\n",
    "df.text = df.text.str.lower()\n",
    "df.text.str.find('go')"
   ]
  },
  {
   "cell_type": "code",
   "execution_count": 13,
   "id": "7c9391ca",
   "metadata": {},
   "outputs": [
    {
     "data": {
      "text/html": [
       "<div>\n",
       "<style scoped>\n",
       "    .dataframe tbody tr th:only-of-type {\n",
       "        vertical-align: middle;\n",
       "    }\n",
       "\n",
       "    .dataframe tbody tr th {\n",
       "        vertical-align: top;\n",
       "    }\n",
       "\n",
       "    .dataframe thead th {\n",
       "        text-align: right;\n",
       "    }\n",
       "</style>\n",
       "<table border=\"1\" class=\"dataframe\">\n",
       "  <thead>\n",
       "    <tr style=\"text-align: right;\">\n",
       "      <th></th>\n",
       "      <th>Unnamed: 0</th>\n",
       "      <th>target</th>\n",
       "      <th>text</th>\n",
       "      <th>length</th>\n",
       "    </tr>\n",
       "  </thead>\n",
       "  <tbody>\n",
       "    <tr>\n",
       "      <th>0</th>\n",
       "      <td>0</td>\n",
       "      <td>ham</td>\n",
       "      <td>Go until jurong point, crazy.. Available only ...</td>\n",
       "      <td>111</td>\n",
       "    </tr>\n",
       "    <tr>\n",
       "      <th>1</th>\n",
       "      <td>1</td>\n",
       "      <td>ham</td>\n",
       "      <td>Ok lar... Joking wif u oni...</td>\n",
       "      <td>29</td>\n",
       "    </tr>\n",
       "    <tr>\n",
       "      <th>2</th>\n",
       "      <td>2</td>\n",
       "      <td>spam</td>\n",
       "      <td>Free entry in 2 a wkly comp to win FA Cup fina...</td>\n",
       "      <td>155</td>\n",
       "    </tr>\n",
       "    <tr>\n",
       "      <th>3</th>\n",
       "      <td>3</td>\n",
       "      <td>ham</td>\n",
       "      <td>U dun say so early hor... U c already then say...</td>\n",
       "      <td>49</td>\n",
       "    </tr>\n",
       "    <tr>\n",
       "      <th>4</th>\n",
       "      <td>4</td>\n",
       "      <td>ham</td>\n",
       "      <td>Nah I don't think he goes to usf, he lives aro...</td>\n",
       "      <td>61</td>\n",
       "    </tr>\n",
       "  </tbody>\n",
       "</table>\n",
       "</div>"
      ],
      "text/plain": [
       "   Unnamed: 0 target                                               text  \\\n",
       "0           0    ham  Go until jurong point, crazy.. Available only ...   \n",
       "1           1    ham                      Ok lar... Joking wif u oni...   \n",
       "2           2   spam  Free entry in 2 a wkly comp to win FA Cup fina...   \n",
       "3           3    ham  U dun say so early hor... U c already then say...   \n",
       "4           4    ham  Nah I don't think he goes to usf, he lives aro...   \n",
       "\n",
       "   length  \n",
       "0     111  \n",
       "1      29  \n",
       "2     155  \n",
       "3      49  \n",
       "4      61  "
      ]
     },
     "execution_count": 13,
     "metadata": {},
     "output_type": "execute_result"
    }
   ],
   "source": [
    "# len 함수 적용\n",
    "df['length'] = df.text.str.len()\n",
    "df.head()"
   ]
  },
  {
   "cell_type": "code",
   "execution_count": 12,
   "id": "e11e7ad6",
   "metadata": {},
   "outputs": [
    {
     "data": {
      "image/png": "[encoded data removed]",
      "text/plain": [
       "<Figure size 640x480 with 1 Axes>"
      ]
     },
     "metadata": {},
     "output_type": "display_data"
    }
   ],
   "source": [
    "import matplotlib.pyplot as plt\n",
    "import seaborn as sns\n",
    "\n",
    "sns.histplot(data=df, x='length', hue='target')\n",
    "plt.title(\"Distribution of Text Length\")\n",
    "plt.show()"
   ]
  },
  {
   "cell_type": "code",
   "execution_count": null,
   "id": "6095f460",
   "metadata": {},
   "outputs": [],
   "source": []
  }
 ],
 "metadata": {
  "kernelspec": {
   "display_name": "Python 3 (ipykernel)",
   "language": "python",
   "name": "python3"
  },
  "language_info": {
   "codemirror_mode": {
    "name": "ipython",
    "version": 3
   },
   "file_extension": ".py",
   "mimetype": "text/x-python",
   "name": "python",
   "nbconvert_exporter": "python",
   "pygments_lexer": "ipython3",
   "version": "3.11.4"
  }
 },
 "nbformat": 4,
 "nbformat_minor": 5
}
