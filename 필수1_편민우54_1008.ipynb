{
 "cells": [
  {
   "cell_type": "markdown",
   "id": "cabf4b4c",
   "metadata": {},
   "source": [
    "### 필수과제 1\n",
    "- 캘리포니아 데이터를 가지고 다른 변수들까지 추가해 보시면서 실제 outlier에 대한 값을 비교해 보고\n",
    "- 본인이 선택한 변수에서 outlier 파생변수를 추가한 내용과\n",
    "- outlier 제거에 대한 내용 비교 분석하시면 됩니다."
   ]
  },
  {
   "cell_type": "code",
   "execution_count": 181,
   "id": "c7137266",
   "metadata": {},
   "outputs": [],
   "source": [
    "import pandas as pd\n",
    "import numpy as np\n",
    "import matplotlib.pyplot as plt\n",
    "import seaborn as sns"
   ]
  },
  {
   "cell_type": "markdown",
   "id": "e5a11f87",
   "metadata": {},
   "source": [
    "### 데이터 셋 불러오기"
   ]
  },
  {
   "cell_type": "code",
   "execution_count": 182,
   "id": "8311eeed",
   "metadata": {},
   "outputs": [
    {
     "data": {
      "text/html": [
       "<div>\n",
       "<style scoped>\n",
       "    .dataframe tbody tr th:only-of-type {\n",
       "        vertical-align: middle;\n",
       "    }\n",
       "\n",
       "    .dataframe tbody tr th {\n",
       "        vertical-align: top;\n",
       "    }\n",
       "\n",
       "    .dataframe thead th {\n",
       "        text-align: right;\n",
       "    }\n",
       "</style>\n",
       "<table border=\"1\" class=\"dataframe\">\n",
       "  <thead>\n",
       "    <tr style=\"text-align: right;\">\n",
       "      <th></th>\n",
       "      <th>MedInc</th>\n",
       "      <th>HouseAge</th>\n",
       "      <th>AveRooms</th>\n",
       "      <th>AveBedrms</th>\n",
       "      <th>Population</th>\n",
       "      <th>AveOccup</th>\n",
       "      <th>Latitude</th>\n",
       "      <th>Longitude</th>\n",
       "      <th>target</th>\n",
       "    </tr>\n",
       "  </thead>\n",
       "  <tbody>\n",
       "    <tr>\n",
       "      <th>0</th>\n",
       "      <td>8.3252</td>\n",
       "      <td>41.0</td>\n",
       "      <td>6.984127</td>\n",
       "      <td>1.023810</td>\n",
       "      <td>322.0</td>\n",
       "      <td>2.555556</td>\n",
       "      <td>37.88</td>\n",
       "      <td>-122.23</td>\n",
       "      <td>4.526</td>\n",
       "    </tr>\n",
       "    <tr>\n",
       "      <th>1</th>\n",
       "      <td>8.3014</td>\n",
       "      <td>21.0</td>\n",
       "      <td>6.238137</td>\n",
       "      <td>0.971880</td>\n",
       "      <td>2401.0</td>\n",
       "      <td>2.109842</td>\n",
       "      <td>37.86</td>\n",
       "      <td>-122.22</td>\n",
       "      <td>3.585</td>\n",
       "    </tr>\n",
       "    <tr>\n",
       "      <th>2</th>\n",
       "      <td>7.2574</td>\n",
       "      <td>52.0</td>\n",
       "      <td>8.288136</td>\n",
       "      <td>1.073446</td>\n",
       "      <td>496.0</td>\n",
       "      <td>2.802260</td>\n",
       "      <td>37.85</td>\n",
       "      <td>-122.24</td>\n",
       "      <td>3.521</td>\n",
       "    </tr>\n",
       "    <tr>\n",
       "      <th>3</th>\n",
       "      <td>5.6431</td>\n",
       "      <td>52.0</td>\n",
       "      <td>5.817352</td>\n",
       "      <td>1.073059</td>\n",
       "      <td>558.0</td>\n",
       "      <td>2.547945</td>\n",
       "      <td>37.85</td>\n",
       "      <td>-122.25</td>\n",
       "      <td>3.413</td>\n",
       "    </tr>\n",
       "    <tr>\n",
       "      <th>4</th>\n",
       "      <td>3.8462</td>\n",
       "      <td>52.0</td>\n",
       "      <td>6.281853</td>\n",
       "      <td>1.081081</td>\n",
       "      <td>565.0</td>\n",
       "      <td>2.181467</td>\n",
       "      <td>37.85</td>\n",
       "      <td>-122.25</td>\n",
       "      <td>3.422</td>\n",
       "    </tr>\n",
       "  </tbody>\n",
       "</table>\n",
       "</div>"
      ],
      "text/plain": [
       "   MedInc  HouseAge  AveRooms  AveBedrms  Population  AveOccup  Latitude  \\\n",
       "0  8.3252      41.0  6.984127   1.023810       322.0  2.555556     37.88   \n",
       "1  8.3014      21.0  6.238137   0.971880      2401.0  2.109842     37.86   \n",
       "2  7.2574      52.0  8.288136   1.073446       496.0  2.802260     37.85   \n",
       "3  5.6431      52.0  5.817352   1.073059       558.0  2.547945     37.85   \n",
       "4  3.8462      52.0  6.281853   1.081081       565.0  2.181467     37.85   \n",
       "\n",
       "   Longitude  target  \n",
       "0    -122.23   4.526  \n",
       "1    -122.22   3.585  \n",
       "2    -122.24   3.521  \n",
       "3    -122.25   3.413  \n",
       "4    -122.25   3.422  "
      ]
     },
     "execution_count": 182,
     "metadata": {},
     "output_type": "execute_result"
    }
   ],
   "source": [
    "from sklearn import datasets\n",
    "\n",
    "dataset = datasets.fetch_california_housing()\n",
    "df = pd.DataFrame(dataset.data, columns = dataset.feature_names)\n",
    "df['target'] = dataset.target\n",
    "df.head()"
   ]
  },
  {
   "cell_type": "code",
   "execution_count": 183,
   "id": "3cbb956b",
   "metadata": {},
   "outputs": [
    {
     "data": {
      "text/plain": [
       "<Axes: >"
      ]
     },
     "execution_count": 183,
     "metadata": {},
     "output_type": "execute_result"
    },
    {
     "data": {
      "image/png": "[encoded data removed]",
      "text/plain": [
       "<Figure size 640x480 with 1 Axes>"
      ]
     },
     "metadata": {},
     "output_type": "display_data"
    }
   ],
   "source": [
    "# AveBedrms 이상치 확인\n",
    "sns.boxplot(df.Population)"
   ]
  },
  {
   "cell_type": "code",
   "execution_count": 188,
   "id": "26279f71",
   "metadata": {},
   "outputs": [
    {
     "data": {
      "text/plain": [
       "count    20640.000000\n",
       "mean      1425.476744\n",
       "std       1132.462122\n",
       "min          3.000000\n",
       "25%        787.000000\n",
       "50%       1166.000000\n",
       "75%       1725.000000\n",
       "max      35682.000000\n",
       "Name: Population, dtype: float64"
      ]
     },
     "execution_count": 188,
     "metadata": {},
     "output_type": "execute_result"
    }
   ],
   "source": [
    "df.Population.describe()"
   ]
  },
  {
   "cell_type": "code",
   "execution_count": 199,
   "id": "3aa89e69",
   "metadata": {},
   "outputs": [
    {
     "data": {
      "text/plain": [
       "15360"
      ]
     },
     "execution_count": 199,
     "metadata": {},
     "output_type": "execute_result"
    }
   ],
   "source": [
    "#넘파이를 통해서 최대값에 인덱스를 추출한다.\n",
    "np.argmax(df.Population)"
   ]
  },
  {
   "cell_type": "code",
   "execution_count": 200,
   "id": "9d864664",
   "metadata": {},
   "outputs": [
    {
     "data": {
      "text/plain": [
       "MedInc            2.572900\n",
       "HouseAge         14.000000\n",
       "AveRooms          5.270497\n",
       "AveBedrms         1.010484\n",
       "Population    35682.000000\n",
       "AveOccup          7.482072\n",
       "Latitude         33.350000\n",
       "Longitude      -117.420000\n",
       "target            1.344000\n",
       "Name: 15360, dtype: float64"
      ]
     },
     "execution_count": 200,
     "metadata": {},
     "output_type": "execute_result"
    }
   ],
   "source": [
    "df.iloc[15360]"
   ]
  },
  {
   "cell_type": "code",
   "execution_count": 201,
   "id": "dac8c04b",
   "metadata": {},
   "outputs": [
    {
     "data": {
      "text/plain": [
       "Index(['MedInc', 'HouseAge', 'AveRooms', 'AveBedrms', 'Population', 'AveOccup',\n",
       "       'Latitude', 'Longitude', 'target'],\n",
       "      dtype='object')"
      ]
     },
     "execution_count": 201,
     "metadata": {},
     "output_type": "execute_result"
    }
   ],
   "source": [
    "df.columns"
   ]
  },
  {
   "cell_type": "markdown",
   "id": "af6faf59",
   "metadata": {},
   "source": [
    "### 기본 베이스로 MSE 측정"
   ]
  },
  {
   "cell_type": "code",
   "execution_count": 202,
   "id": "dfa1d4dd",
   "metadata": {},
   "outputs": [],
   "source": [
    "df_sp = df[['AveRooms','HouseAge','Population','target']]"
   ]
  },
  {
   "cell_type": "code",
   "execution_count": 203,
   "id": "7641c7d2",
   "metadata": {},
   "outputs": [],
   "source": [
    "from sklearn.model_selection import train_test_split"
   ]
  },
  {
   "cell_type": "code",
   "execution_count": 204,
   "id": "1c30bc01",
   "metadata": {},
   "outputs": [],
   "source": [
    "#train, test 나누기\n",
    "x_train, x_test, y_train, y_test = train_test_split(df_sp.drop('target',axis=1), df_sp['target'], test_size=0.3, random_state=111)"
   ]
  },
  {
   "cell_type": "code",
   "execution_count": 205,
   "id": "205137c5",
   "metadata": {},
   "outputs": [
    {
     "data": {
      "image/png": "[encoded data removed]",
      "text/plain": [
       "<Figure size 640x480 with 1 Axes>"
      ]
     },
     "metadata": {},
     "output_type": "display_data"
    }
   ],
   "source": [
    "import statsmodels.api as sm\n",
    "import matplotlib.pyplot as plt\n",
    "\n",
    "fit_train1 = sm.OLS(y_train, x_train)\n",
    "fit_train1 = fit_train1.fit()\n",
    "\n",
    "# 예측한 값\n",
    "plt.plot(np.array(fit_train1.predict(x_test)),label='pred')\n",
    "plt.plot(np.array(y_test), label='True')\n",
    "plt.legend()\n",
    "plt.show()"
   ]
  },
  {
   "cell_type": "code",
   "execution_count": 198,
   "id": "2c6b6484",
   "metadata": {},
   "outputs": [
    {
     "name": "stdout",
     "output_type": "stream",
     "text": [
      "1.3737537935478012\n"
     ]
    }
   ],
   "source": [
    "from sklearn.metrics import mean_squared_error\n",
    "mse1 = mean_squared_error(y_true = y_test, y_pred = fit_train1.predict(x_test))\n",
    "print(mse1)"
   ]
  },
  {
   "cell_type": "markdown",
   "id": "fffce1af",
   "metadata": {},
   "source": [
    "### 이상치 제거 후 MSE 측정"
   ]
  },
  {
   "cell_type": "code",
   "execution_count": 206,
   "id": "4642aac0",
   "metadata": {},
   "outputs": [],
   "source": [
    "Q1 = df_sp['Population'].quantile(0.25)\n",
    "Q3 = df_sp['Population'].quantile(0.75)\n",
    "IQR = Q3-Q1\n",
    "rev_range = 3\n",
    "filter1 = (df_sp['Population'] >= Q1 - rev_range*IQR) & (df_sp['Population'] <=Q3 + rev_range*IQR)"
   ]
  },
  {
   "cell_type": "code",
   "execution_count": 207,
   "id": "aff3dcb4",
   "metadata": {},
   "outputs": [],
   "source": [
    "df_sp_rmv = df_sp.loc[filter1]"
   ]
  },
  {
   "cell_type": "code",
   "execution_count": 208,
   "id": "f56997bd",
   "metadata": {},
   "outputs": [
    {
     "data": {
      "text/html": [
       "<div>\n",
       "<style scoped>\n",
       "    .dataframe tbody tr th:only-of-type {\n",
       "        vertical-align: middle;\n",
       "    }\n",
       "\n",
       "    .dataframe tbody tr th {\n",
       "        vertical-align: top;\n",
       "    }\n",
       "\n",
       "    .dataframe thead th {\n",
       "        text-align: right;\n",
       "    }\n",
       "</style>\n",
       "<table border=\"1\" class=\"dataframe\">\n",
       "  <thead>\n",
       "    <tr style=\"text-align: right;\">\n",
       "      <th></th>\n",
       "      <th>AveRooms</th>\n",
       "      <th>HouseAge</th>\n",
       "      <th>Population</th>\n",
       "      <th>target</th>\n",
       "    </tr>\n",
       "  </thead>\n",
       "  <tbody>\n",
       "    <tr>\n",
       "      <th>0</th>\n",
       "      <td>6.984127</td>\n",
       "      <td>41.0</td>\n",
       "      <td>322.0</td>\n",
       "      <td>4.526</td>\n",
       "    </tr>\n",
       "    <tr>\n",
       "      <th>1</th>\n",
       "      <td>6.238137</td>\n",
       "      <td>21.0</td>\n",
       "      <td>2401.0</td>\n",
       "      <td>3.585</td>\n",
       "    </tr>\n",
       "    <tr>\n",
       "      <th>2</th>\n",
       "      <td>8.288136</td>\n",
       "      <td>52.0</td>\n",
       "      <td>496.0</td>\n",
       "      <td>3.521</td>\n",
       "    </tr>\n",
       "    <tr>\n",
       "      <th>3</th>\n",
       "      <td>5.817352</td>\n",
       "      <td>52.0</td>\n",
       "      <td>558.0</td>\n",
       "      <td>3.413</td>\n",
       "    </tr>\n",
       "    <tr>\n",
       "      <th>4</th>\n",
       "      <td>6.281853</td>\n",
       "      <td>52.0</td>\n",
       "      <td>565.0</td>\n",
       "      <td>3.422</td>\n",
       "    </tr>\n",
       "    <tr>\n",
       "      <th>...</th>\n",
       "      <td>...</td>\n",
       "      <td>...</td>\n",
       "      <td>...</td>\n",
       "      <td>...</td>\n",
       "    </tr>\n",
       "    <tr>\n",
       "      <th>20635</th>\n",
       "      <td>5.045455</td>\n",
       "      <td>25.0</td>\n",
       "      <td>845.0</td>\n",
       "      <td>0.781</td>\n",
       "    </tr>\n",
       "    <tr>\n",
       "      <th>20636</th>\n",
       "      <td>6.114035</td>\n",
       "      <td>18.0</td>\n",
       "      <td>356.0</td>\n",
       "      <td>0.771</td>\n",
       "    </tr>\n",
       "    <tr>\n",
       "      <th>20637</th>\n",
       "      <td>5.205543</td>\n",
       "      <td>17.0</td>\n",
       "      <td>1007.0</td>\n",
       "      <td>0.923</td>\n",
       "    </tr>\n",
       "    <tr>\n",
       "      <th>20638</th>\n",
       "      <td>5.329513</td>\n",
       "      <td>18.0</td>\n",
       "      <td>741.0</td>\n",
       "      <td>0.847</td>\n",
       "    </tr>\n",
       "    <tr>\n",
       "      <th>20639</th>\n",
       "      <td>5.254717</td>\n",
       "      <td>16.0</td>\n",
       "      <td>1387.0</td>\n",
       "      <td>0.894</td>\n",
       "    </tr>\n",
       "  </tbody>\n",
       "</table>\n",
       "<p>20219 rows × 4 columns</p>\n",
       "</div>"
      ],
      "text/plain": [
       "       AveRooms  HouseAge  Population  target\n",
       "0      6.984127      41.0       322.0   4.526\n",
       "1      6.238137      21.0      2401.0   3.585\n",
       "2      8.288136      52.0       496.0   3.521\n",
       "3      5.817352      52.0       558.0   3.413\n",
       "4      6.281853      52.0       565.0   3.422\n",
       "...         ...       ...         ...     ...\n",
       "20635  5.045455      25.0       845.0   0.781\n",
       "20636  6.114035      18.0       356.0   0.771\n",
       "20637  5.205543      17.0      1007.0   0.923\n",
       "20638  5.329513      18.0       741.0   0.847\n",
       "20639  5.254717      16.0      1387.0   0.894\n",
       "\n",
       "[20219 rows x 4 columns]"
      ]
     },
     "execution_count": 208,
     "metadata": {},
     "output_type": "execute_result"
    }
   ],
   "source": [
    "df_sp_rmv"
   ]
  },
  {
   "cell_type": "code",
   "execution_count": 209,
   "id": "a62d9865",
   "metadata": {},
   "outputs": [
    {
     "name": "stderr",
     "output_type": "stream",
     "text": [
      "C:\\Users\\jh060\\AppData\\Local\\Temp\\ipykernel_12640\\3851295763.py:13: SettingWithCopyWarning: \n",
      "A value is trying to be set on a copy of a slice from a DataFrame.\n",
      "Try using .loc[row_indexer,col_indexer] = value instead\n",
      "\n",
      "See the caveats in the documentation: https://pandas.pydata.org/pandas-docs/stable/user_guide/indexing.html#returning-a-view-versus-a-copy\n",
      "  df_sp['Population'] = df_sp['Population'].apply(replace_outlier).copy()\n"
     ]
    }
   ],
   "source": [
    "def replace_outlier(value):\n",
    "    Q1 = df_sp['Population'].quantile(0.25)\n",
    "    Q3 = df_sp['Population'].quantile(0.75)\n",
    "    IQR = Q3-Q1\n",
    "    rev_range = 3\n",
    "\n",
    "    if((value <(Q1-rev_range*IQR))):\n",
    "        value = np.nan\n",
    "    if((value >(Q3+rev_range*IQR))):\n",
    "        value = np.nan\n",
    "    return value\n",
    "\n",
    "df_sp['Population'] = df_sp['Population'].apply(replace_outlier).copy()"
   ]
  },
  {
   "cell_type": "code",
   "execution_count": 211,
   "id": "358aef8a",
   "metadata": {},
   "outputs": [
    {
     "data": {
      "text/plain": [
       "AveRooms        0\n",
       "HouseAge        0\n",
       "Population    421\n",
       "target          0\n",
       "dtype: int64"
      ]
     },
     "execution_count": 211,
     "metadata": {},
     "output_type": "execute_result"
    }
   ],
   "source": [
    "df_sp.isna().sum()"
   ]
  },
  {
   "cell_type": "code",
   "execution_count": 212,
   "id": "3283c79f",
   "metadata": {},
   "outputs": [],
   "source": [
    "#이상치 제거\n",
    "df_sp2=df_sp.dropna()"
   ]
  },
  {
   "cell_type": "code",
   "execution_count": 213,
   "id": "b8d8c5f4",
   "metadata": {},
   "outputs": [
    {
     "data": {
      "text/html": [
       "<div>\n",
       "<style scoped>\n",
       "    .dataframe tbody tr th:only-of-type {\n",
       "        vertical-align: middle;\n",
       "    }\n",
       "\n",
       "    .dataframe tbody tr th {\n",
       "        vertical-align: top;\n",
       "    }\n",
       "\n",
       "    .dataframe thead th {\n",
       "        text-align: right;\n",
       "    }\n",
       "</style>\n",
       "<table border=\"1\" class=\"dataframe\">\n",
       "  <thead>\n",
       "    <tr style=\"text-align: right;\">\n",
       "      <th></th>\n",
       "      <th>AveRooms</th>\n",
       "      <th>HouseAge</th>\n",
       "      <th>Population</th>\n",
       "      <th>target</th>\n",
       "    </tr>\n",
       "  </thead>\n",
       "  <tbody>\n",
       "    <tr>\n",
       "      <th>0</th>\n",
       "      <td>6.984127</td>\n",
       "      <td>41.0</td>\n",
       "      <td>322.0</td>\n",
       "      <td>4.526</td>\n",
       "    </tr>\n",
       "    <tr>\n",
       "      <th>1</th>\n",
       "      <td>6.238137</td>\n",
       "      <td>21.0</td>\n",
       "      <td>2401.0</td>\n",
       "      <td>3.585</td>\n",
       "    </tr>\n",
       "    <tr>\n",
       "      <th>2</th>\n",
       "      <td>8.288136</td>\n",
       "      <td>52.0</td>\n",
       "      <td>496.0</td>\n",
       "      <td>3.521</td>\n",
       "    </tr>\n",
       "    <tr>\n",
       "      <th>3</th>\n",
       "      <td>5.817352</td>\n",
       "      <td>52.0</td>\n",
       "      <td>558.0</td>\n",
       "      <td>3.413</td>\n",
       "    </tr>\n",
       "    <tr>\n",
       "      <th>4</th>\n",
       "      <td>6.281853</td>\n",
       "      <td>52.0</td>\n",
       "      <td>565.0</td>\n",
       "      <td>3.422</td>\n",
       "    </tr>\n",
       "    <tr>\n",
       "      <th>...</th>\n",
       "      <td>...</td>\n",
       "      <td>...</td>\n",
       "      <td>...</td>\n",
       "      <td>...</td>\n",
       "    </tr>\n",
       "    <tr>\n",
       "      <th>20635</th>\n",
       "      <td>5.045455</td>\n",
       "      <td>25.0</td>\n",
       "      <td>845.0</td>\n",
       "      <td>0.781</td>\n",
       "    </tr>\n",
       "    <tr>\n",
       "      <th>20636</th>\n",
       "      <td>6.114035</td>\n",
       "      <td>18.0</td>\n",
       "      <td>356.0</td>\n",
       "      <td>0.771</td>\n",
       "    </tr>\n",
       "    <tr>\n",
       "      <th>20637</th>\n",
       "      <td>5.205543</td>\n",
       "      <td>17.0</td>\n",
       "      <td>1007.0</td>\n",
       "      <td>0.923</td>\n",
       "    </tr>\n",
       "    <tr>\n",
       "      <th>20638</th>\n",
       "      <td>5.329513</td>\n",
       "      <td>18.0</td>\n",
       "      <td>741.0</td>\n",
       "      <td>0.847</td>\n",
       "    </tr>\n",
       "    <tr>\n",
       "      <th>20639</th>\n",
       "      <td>5.254717</td>\n",
       "      <td>16.0</td>\n",
       "      <td>1387.0</td>\n",
       "      <td>0.894</td>\n",
       "    </tr>\n",
       "  </tbody>\n",
       "</table>\n",
       "<p>20219 rows × 4 columns</p>\n",
       "</div>"
      ],
      "text/plain": [
       "       AveRooms  HouseAge  Population  target\n",
       "0      6.984127      41.0       322.0   4.526\n",
       "1      6.238137      21.0      2401.0   3.585\n",
       "2      8.288136      52.0       496.0   3.521\n",
       "3      5.817352      52.0       558.0   3.413\n",
       "4      6.281853      52.0       565.0   3.422\n",
       "...         ...       ...         ...     ...\n",
       "20635  5.045455      25.0       845.0   0.781\n",
       "20636  6.114035      18.0       356.0   0.771\n",
       "20637  5.205543      17.0      1007.0   0.923\n",
       "20638  5.329513      18.0       741.0   0.847\n",
       "20639  5.254717      16.0      1387.0   0.894\n",
       "\n",
       "[20219 rows x 4 columns]"
      ]
     },
     "execution_count": 213,
     "metadata": {},
     "output_type": "execute_result"
    }
   ],
   "source": [
    "df_sp2"
   ]
  },
  {
   "cell_type": "code",
   "execution_count": 214,
   "id": "65c129c0",
   "metadata": {},
   "outputs": [
    {
     "data": {
      "text/plain": [
       "AveRooms      0\n",
       "HouseAge      0\n",
       "Population    0\n",
       "target        0\n",
       "dtype: int64"
      ]
     },
     "execution_count": 214,
     "metadata": {},
     "output_type": "execute_result"
    }
   ],
   "source": [
    "df_sp2.isna().sum()"
   ]
  },
  {
   "cell_type": "code",
   "execution_count": 215,
   "id": "2d68bb3f",
   "metadata": {},
   "outputs": [
    {
     "data": {
      "text/html": [
       "<div>\n",
       "<style scoped>\n",
       "    .dataframe tbody tr th:only-of-type {\n",
       "        vertical-align: middle;\n",
       "    }\n",
       "\n",
       "    .dataframe tbody tr th {\n",
       "        vertical-align: top;\n",
       "    }\n",
       "\n",
       "    .dataframe thead th {\n",
       "        text-align: right;\n",
       "    }\n",
       "</style>\n",
       "<table border=\"1\" class=\"dataframe\">\n",
       "  <thead>\n",
       "    <tr style=\"text-align: right;\">\n",
       "      <th></th>\n",
       "      <th>AveRooms</th>\n",
       "      <th>HouseAge</th>\n",
       "      <th>Population</th>\n",
       "      <th>target</th>\n",
       "    </tr>\n",
       "  </thead>\n",
       "  <tbody>\n",
       "    <tr>\n",
       "      <th>0</th>\n",
       "      <td>6.984127</td>\n",
       "      <td>41.0</td>\n",
       "      <td>322.0</td>\n",
       "      <td>4.526</td>\n",
       "    </tr>\n",
       "    <tr>\n",
       "      <th>1</th>\n",
       "      <td>6.238137</td>\n",
       "      <td>21.0</td>\n",
       "      <td>2401.0</td>\n",
       "      <td>3.585</td>\n",
       "    </tr>\n",
       "    <tr>\n",
       "      <th>2</th>\n",
       "      <td>8.288136</td>\n",
       "      <td>52.0</td>\n",
       "      <td>496.0</td>\n",
       "      <td>3.521</td>\n",
       "    </tr>\n",
       "    <tr>\n",
       "      <th>3</th>\n",
       "      <td>5.817352</td>\n",
       "      <td>52.0</td>\n",
       "      <td>558.0</td>\n",
       "      <td>3.413</td>\n",
       "    </tr>\n",
       "    <tr>\n",
       "      <th>4</th>\n",
       "      <td>6.281853</td>\n",
       "      <td>52.0</td>\n",
       "      <td>565.0</td>\n",
       "      <td>3.422</td>\n",
       "    </tr>\n",
       "    <tr>\n",
       "      <th>...</th>\n",
       "      <td>...</td>\n",
       "      <td>...</td>\n",
       "      <td>...</td>\n",
       "      <td>...</td>\n",
       "    </tr>\n",
       "    <tr>\n",
       "      <th>20635</th>\n",
       "      <td>5.045455</td>\n",
       "      <td>25.0</td>\n",
       "      <td>845.0</td>\n",
       "      <td>0.781</td>\n",
       "    </tr>\n",
       "    <tr>\n",
       "      <th>20636</th>\n",
       "      <td>6.114035</td>\n",
       "      <td>18.0</td>\n",
       "      <td>356.0</td>\n",
       "      <td>0.771</td>\n",
       "    </tr>\n",
       "    <tr>\n",
       "      <th>20637</th>\n",
       "      <td>5.205543</td>\n",
       "      <td>17.0</td>\n",
       "      <td>1007.0</td>\n",
       "      <td>0.923</td>\n",
       "    </tr>\n",
       "    <tr>\n",
       "      <th>20638</th>\n",
       "      <td>5.329513</td>\n",
       "      <td>18.0</td>\n",
       "      <td>741.0</td>\n",
       "      <td>0.847</td>\n",
       "    </tr>\n",
       "    <tr>\n",
       "      <th>20639</th>\n",
       "      <td>5.254717</td>\n",
       "      <td>16.0</td>\n",
       "      <td>1387.0</td>\n",
       "      <td>0.894</td>\n",
       "    </tr>\n",
       "  </tbody>\n",
       "</table>\n",
       "<p>20219 rows × 4 columns</p>\n",
       "</div>"
      ],
      "text/plain": [
       "       AveRooms  HouseAge  Population  target\n",
       "0      6.984127      41.0       322.0   4.526\n",
       "1      6.238137      21.0      2401.0   3.585\n",
       "2      8.288136      52.0       496.0   3.521\n",
       "3      5.817352      52.0       558.0   3.413\n",
       "4      6.281853      52.0       565.0   3.422\n",
       "...         ...       ...         ...     ...\n",
       "20635  5.045455      25.0       845.0   0.781\n",
       "20636  6.114035      18.0       356.0   0.771\n",
       "20637  5.205543      17.0      1007.0   0.923\n",
       "20638  5.329513      18.0       741.0   0.847\n",
       "20639  5.254717      16.0      1387.0   0.894\n",
       "\n",
       "[20219 rows x 4 columns]"
      ]
     },
     "execution_count": 215,
     "metadata": {},
     "output_type": "execute_result"
    }
   ],
   "source": [
    "df_sp2"
   ]
  },
  {
   "cell_type": "code",
   "execution_count": 216,
   "id": "587f9e95",
   "metadata": {},
   "outputs": [],
   "source": [
    "#이상치를 제거한 train, test 나누기\n",
    "x_train, x_test, y_train, y_test = train_test_split(df_sp2.drop('target',axis=1), df_sp2['target'], test_size=0.3, random_state=111)"
   ]
  },
  {
   "cell_type": "code",
   "execution_count": 217,
   "id": "f62d0e67",
   "metadata": {},
   "outputs": [
    {
     "data": {
      "image/png": "[encoded data removed]",
      "text/plain": [
       "<Figure size 640x480 with 1 Axes>"
      ]
     },
     "metadata": {},
     "output_type": "display_data"
    }
   ],
   "source": [
    "import statsmodels.api as sm\n",
    "import matplotlib.pyplot as plt\n",
    "\n",
    "fit_train1 = sm.OLS(y_train, x_train)\n",
    "fit_train1 = fit_train1.fit()\n",
    "\n",
    "# 예측한 값\n",
    "plt.plot(np.array(fit_train1.predict(x_test)),label='pred')\n",
    "plt.plot(np.array(y_test), label='True')\n",
    "plt.legend()\n",
    "plt.show()"
   ]
  },
  {
   "cell_type": "code",
   "execution_count": 218,
   "id": "fa5d0a1a",
   "metadata": {},
   "outputs": [
    {
     "name": "stdout",
     "output_type": "stream",
     "text": [
      "1.3519367169770133\n"
     ]
    }
   ],
   "source": [
    "from sklearn.metrics import mean_squared_error\n",
    "mse2 = mean_squared_error(y_true = y_test, y_pred = fit_train1.predict(x_test))\n",
    "print(mse2)"
   ]
  },
  {
   "cell_type": "code",
   "execution_count": 219,
   "id": "7a79133f",
   "metadata": {},
   "outputs": [
    {
     "name": "stdout",
     "output_type": "stream",
     "text": [
      "1.3737537935478012\n",
      "1.3519367169770133\n"
     ]
    }
   ],
   "source": [
    "print(mse1)\n",
    "print(mse2)"
   ]
  },
  {
   "cell_type": "markdown",
   "id": "8ceebc76",
   "metadata": {},
   "source": [
    "### 이상치에 가중을 두어 MSE 측정"
   ]
  },
  {
   "cell_type": "code",
   "execution_count": 220,
   "id": "d83d84df",
   "metadata": {},
   "outputs": [],
   "source": [
    "df_sp3 = df[['MedInc','Population','Latitude','target']]"
   ]
  },
  {
   "cell_type": "code",
   "execution_count": 221,
   "id": "9663b3fc",
   "metadata": {},
   "outputs": [
    {
     "name": "stderr",
     "output_type": "stream",
     "text": [
      "C:\\Users\\jh060\\AppData\\Local\\Temp\\ipykernel_12640\\1130489768.py:16: SettingWithCopyWarning: \n",
      "A value is trying to be set on a copy of a slice from a DataFrame.\n",
      "Try using .loc[row_indexer,col_indexer] = value instead\n",
      "\n",
      "See the caveats in the documentation: https://pandas.pydata.org/pandas-docs/stable/user_guide/indexing.html#returning-a-view-versus-a-copy\n",
      "  df_sp3['Population_sv'] = df_sp3['Population'].apply(saving_outlier)\n"
     ]
    }
   ],
   "source": [
    "# 이상치에 가중치 부여 : 가중치를 둔 경우에는 1, 아닌 경우 0.\n",
    "def saving_outlier(value):\n",
    "    Q1 = df_sp2['Population'].quantile(0.25)\n",
    "    Q3 = df_sp2['Population'].quantile(0.75)\n",
    "    IQR = Q3-Q1\n",
    "    rev_range = 3\n",
    "\n",
    "    if((value < (Q1 - rev_range*IQR))):\n",
    "        value = 1\n",
    "    elif((value > (Q3 + rev_range*IQR))):\n",
    "        value = 1\n",
    "    else:\n",
    "        value = 0\n",
    "    return value\n",
    "\n",
    "df_sp3['Population_sv'] = df_sp3['Population'].apply(saving_outlier)"
   ]
  },
  {
   "cell_type": "code",
   "execution_count": 222,
   "id": "883fd7e7",
   "metadata": {},
   "outputs": [
    {
     "data": {
      "text/plain": [
       "472"
      ]
     },
     "execution_count": 222,
     "metadata": {},
     "output_type": "execute_result"
    }
   ],
   "source": [
    "df_sp3.Population_sv.sum()"
   ]
  },
  {
   "cell_type": "code",
   "execution_count": 223,
   "id": "c6f9a7f1",
   "metadata": {},
   "outputs": [
    {
     "data": {
      "text/html": [
       "<div>\n",
       "<style scoped>\n",
       "    .dataframe tbody tr th:only-of-type {\n",
       "        vertical-align: middle;\n",
       "    }\n",
       "\n",
       "    .dataframe tbody tr th {\n",
       "        vertical-align: top;\n",
       "    }\n",
       "\n",
       "    .dataframe thead th {\n",
       "        text-align: right;\n",
       "    }\n",
       "</style>\n",
       "<table border=\"1\" class=\"dataframe\">\n",
       "  <thead>\n",
       "    <tr style=\"text-align: right;\">\n",
       "      <th></th>\n",
       "      <th>MedInc</th>\n",
       "      <th>Population</th>\n",
       "      <th>Latitude</th>\n",
       "      <th>target</th>\n",
       "      <th>Population_sv</th>\n",
       "    </tr>\n",
       "  </thead>\n",
       "  <tbody>\n",
       "    <tr>\n",
       "      <th>0</th>\n",
       "      <td>8.3252</td>\n",
       "      <td>322.0</td>\n",
       "      <td>37.88</td>\n",
       "      <td>4.526</td>\n",
       "      <td>0</td>\n",
       "    </tr>\n",
       "    <tr>\n",
       "      <th>1</th>\n",
       "      <td>8.3014</td>\n",
       "      <td>2401.0</td>\n",
       "      <td>37.86</td>\n",
       "      <td>3.585</td>\n",
       "      <td>0</td>\n",
       "    </tr>\n",
       "    <tr>\n",
       "      <th>2</th>\n",
       "      <td>7.2574</td>\n",
       "      <td>496.0</td>\n",
       "      <td>37.85</td>\n",
       "      <td>3.521</td>\n",
       "      <td>0</td>\n",
       "    </tr>\n",
       "    <tr>\n",
       "      <th>3</th>\n",
       "      <td>5.6431</td>\n",
       "      <td>558.0</td>\n",
       "      <td>37.85</td>\n",
       "      <td>3.413</td>\n",
       "      <td>0</td>\n",
       "    </tr>\n",
       "    <tr>\n",
       "      <th>4</th>\n",
       "      <td>3.8462</td>\n",
       "      <td>565.0</td>\n",
       "      <td>37.85</td>\n",
       "      <td>3.422</td>\n",
       "      <td>0</td>\n",
       "    </tr>\n",
       "    <tr>\n",
       "      <th>...</th>\n",
       "      <td>...</td>\n",
       "      <td>...</td>\n",
       "      <td>...</td>\n",
       "      <td>...</td>\n",
       "      <td>...</td>\n",
       "    </tr>\n",
       "    <tr>\n",
       "      <th>20635</th>\n",
       "      <td>1.5603</td>\n",
       "      <td>845.0</td>\n",
       "      <td>39.48</td>\n",
       "      <td>0.781</td>\n",
       "      <td>0</td>\n",
       "    </tr>\n",
       "    <tr>\n",
       "      <th>20636</th>\n",
       "      <td>2.5568</td>\n",
       "      <td>356.0</td>\n",
       "      <td>39.49</td>\n",
       "      <td>0.771</td>\n",
       "      <td>0</td>\n",
       "    </tr>\n",
       "    <tr>\n",
       "      <th>20637</th>\n",
       "      <td>1.7000</td>\n",
       "      <td>1007.0</td>\n",
       "      <td>39.43</td>\n",
       "      <td>0.923</td>\n",
       "      <td>0</td>\n",
       "    </tr>\n",
       "    <tr>\n",
       "      <th>20638</th>\n",
       "      <td>1.8672</td>\n",
       "      <td>741.0</td>\n",
       "      <td>39.43</td>\n",
       "      <td>0.847</td>\n",
       "      <td>0</td>\n",
       "    </tr>\n",
       "    <tr>\n",
       "      <th>20639</th>\n",
       "      <td>2.3886</td>\n",
       "      <td>1387.0</td>\n",
       "      <td>39.37</td>\n",
       "      <td>0.894</td>\n",
       "      <td>0</td>\n",
       "    </tr>\n",
       "  </tbody>\n",
       "</table>\n",
       "<p>20640 rows × 5 columns</p>\n",
       "</div>"
      ],
      "text/plain": [
       "       MedInc  Population  Latitude  target  Population_sv\n",
       "0      8.3252       322.0     37.88   4.526              0\n",
       "1      8.3014      2401.0     37.86   3.585              0\n",
       "2      7.2574       496.0     37.85   3.521              0\n",
       "3      5.6431       558.0     37.85   3.413              0\n",
       "4      3.8462       565.0     37.85   3.422              0\n",
       "...       ...         ...       ...     ...            ...\n",
       "20635  1.5603       845.0     39.48   0.781              0\n",
       "20636  2.5568       356.0     39.49   0.771              0\n",
       "20637  1.7000      1007.0     39.43   0.923              0\n",
       "20638  1.8672       741.0     39.43   0.847              0\n",
       "20639  2.3886      1387.0     39.37   0.894              0\n",
       "\n",
       "[20640 rows x 5 columns]"
      ]
     },
     "execution_count": 223,
     "metadata": {},
     "output_type": "execute_result"
    }
   ],
   "source": [
    "df_sp3"
   ]
  },
  {
   "cell_type": "code",
   "execution_count": 224,
   "id": "234b05d6",
   "metadata": {},
   "outputs": [],
   "source": [
    "#이상치를 제거한 train, test 나누기\n",
    "x_train, x_test, y_train, y_test = train_test_split(df_sp3.drop('target',axis=1), df_sp3['target'], test_size=0.3, random_state=111)"
   ]
  },
  {
   "cell_type": "code",
   "execution_count": 225,
   "id": "6b966e16",
   "metadata": {},
   "outputs": [
    {
     "data": {
      "image/png": "[encoded data removed]",
      "text/plain": [
       "<Figure size 640x480 with 1 Axes>"
      ]
     },
     "metadata": {},
     "output_type": "display_data"
    }
   ],
   "source": [
    "import statsmodels.api as sm\n",
    "import matplotlib.pyplot as plt\n",
    "\n",
    "fit_train3 = sm.OLS(y_train, x_train)\n",
    "fit_train3 = fit_train3.fit()\n",
    "\n",
    "# 예측한 값\n",
    "plt.plot(np.array(fit_train3.predict(x_test)),label='pred')\n",
    "plt.plot(np.array(y_test), label='True')\n",
    "plt.legend()\n",
    "plt.show()"
   ]
  },
  {
   "cell_type": "code",
   "execution_count": 226,
   "id": "4102de3d",
   "metadata": {},
   "outputs": [
    {
     "name": "stdout",
     "output_type": "stream",
     "text": [
      "0.7210229838902216\n"
     ]
    }
   ],
   "source": [
    "from sklearn.metrics import mean_squared_error\n",
    "mse3 = mean_squared_error(y_true = y_test, y_pred = fit_train3.predict(x_test))\n",
    "print(mse3)"
   ]
  },
  {
   "cell_type": "code",
   "execution_count": 266,
   "id": "64888fd0",
   "metadata": {},
   "outputs": [],
   "source": [
    "mse4 = mean_squared_error(y_true = y_test, y_pred = fit_train3.predict(x_test))"
   ]
  },
  {
   "cell_type": "code",
   "execution_count": 268,
   "id": "065c7bd3",
   "metadata": {},
   "outputs": [
    {
     "name": "stdout",
     "output_type": "stream",
     "text": [
      "1.3737537935478012 기본 BASE\n",
      "1.3519367169770133 이상치 제거\n",
      "0.7210229838902216 이상치 가중\n"
     ]
    }
   ],
   "source": [
    "print(mse1,'기본 BASE')\n",
    "print(mse2,'이상치 제거')\n",
    "print(mse3,'이상치 가중')"
   ]
  },
  {
   "cell_type": "markdown",
   "id": "b5dc0c4c",
   "metadata": {},
   "source": [
    "- 이상치를 제거한 모델의 예측치가 가장 높음"
   ]
  },
  {
   "cell_type": "code",
   "execution_count": null,
   "id": "b21c4365",
   "metadata": {},
   "outputs": [],
   "source": []
  }
 ],
 "metadata": {
  "kernelspec": {
   "display_name": "Python 3 (ipykernel)",
   "language": "python",
   "name": "python3"
  },
  "language_info": {
   "codemirror_mode": {
    "name": "ipython",
    "version": 3
   },
   "file_extension": ".py",
   "mimetype": "text/x-python",
   "name": "python",
   "nbconvert_exporter": "python",
   "pygments_lexer": "ipython3",
   "version": "3.11.4"
  }
 },
 "nbformat": 4,
 "nbformat_minor": 5
}
