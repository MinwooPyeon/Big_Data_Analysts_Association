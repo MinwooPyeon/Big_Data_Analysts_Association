{
 "cells": [
  {
   "cell_type": "markdown",
   "id": "3300b325",
   "metadata": {},
   "source": [
    "- 보간법 (Interpolation)\n",
    "    - 내삽이라 하며 특정한 두 점 안쪽에 놓여있는 가능한 값을 구하려는 방법\n",
    "- 보외법 (Extrapolation)\n",
    "    - 외삽 관찰 범위를 넘어서 다른 변수와의 관계에 기초하여 변수의 값을 추정하는 과정"
   ]
  },
  {
   "cell_type": "markdown",
   "id": "33a6fcd9",
   "metadata": {},
   "source": [
    "### sklearn."
   ]
  },
  {
   "cell_type": "markdown",
   "id": "2bfcfed8",
   "metadata": {},
   "source": [
    "### Iterative imputer"
   ]
  },
  {
   "cell_type": "markdown",
   "id": "c48d9e1b",
   "metadata": {},
   "source": [
    "### 단순 선형 회귀 대치법\n",
    "- 결측치를 대체할 때 예를 들어 단순 선형 회귀 대치 -> 연령과 소득\n",
    "- 소득에 대한 데이터가 결측치가 있고 연령이란 데이터는 결측치가 없다.\n",
    "- 단순한게 연령과 소득에 대한 관계로 둘의 선형관계 상관성을 보고 둘의 회귀식을 관계로 단순하게 결측치를 대체하는 것"
   ]
  },
  {
   "cell_type": "markdown",
   "id": "4fc01f0e",
   "metadata": {},
   "source": [
    "### 확률적 회귀 대치법\n",
    "- 단순하게 접근하는 것이 아니라 회귀식에 확률 오차항 추가해서 확률적으로 회귀 대치를 진행\n",
    "- 표본오차 문제 등 여러가지 문제들이 발생해서 이 부분을 해결하기 위해서 다중대치법을 사용한다."
   ]
  },
  {
   "cell_type": "markdown",
   "id": "02662b4f",
   "metadata": {},
   "source": [
    "### 다중 대치법\n",
    "- 위의 단순, 확률적 회귀대치법을 보완하기 위해서 단순대치를 여러번 수행하는 것\n",
    "- 가상 데이터를 샘쁠 뽑아서 대치값들을 분석하고 결국 최종 결측치를 대체할 것을 선정"
   ]
  },
  {
   "cell_type": "code",
   "execution_count": 15,
   "id": "28770ad0",
   "metadata": {},
   "outputs": [],
   "source": [
    "# explicitly require this experimental feature\n",
    "from sklearn.experimental import enable_iterative_imputer\n",
    "# now you can import normally from sklearn.impute\n",
    "from sklearn.impute import IterativeImputer\n",
    "\n",
    "import seaborn as sns\n",
    "import pandas as pd\n",
    "import numpy as np\n",
    "\n",
    "df=sns.load_dataset('mpg')"
   ]
  },
  {
   "cell_type": "code",
   "execution_count": 16,
   "id": "6bdf5ac1",
   "metadata": {},
   "outputs": [
    {
     "data": {
      "text/html": [
       "<div>\n",
       "<style scoped>\n",
       "    .dataframe tbody tr th:only-of-type {\n",
       "        vertical-align: middle;\n",
       "    }\n",
       "\n",
       "    .dataframe tbody tr th {\n",
       "        vertical-align: top;\n",
       "    }\n",
       "\n",
       "    .dataframe thead th {\n",
       "        text-align: right;\n",
       "    }\n",
       "</style>\n",
       "<table border=\"1\" class=\"dataframe\">\n",
       "  <thead>\n",
       "    <tr style=\"text-align: right;\">\n",
       "      <th></th>\n",
       "      <th>mpg</th>\n",
       "      <th>cylinders</th>\n",
       "      <th>displacement</th>\n",
       "      <th>horsepower</th>\n",
       "      <th>weight</th>\n",
       "      <th>acceleration</th>\n",
       "      <th>model_year</th>\n",
       "      <th>origin</th>\n",
       "      <th>name</th>\n",
       "    </tr>\n",
       "  </thead>\n",
       "  <tbody>\n",
       "    <tr>\n",
       "      <th>0</th>\n",
       "      <td>18.0</td>\n",
       "      <td>8</td>\n",
       "      <td>307.0</td>\n",
       "      <td>130.0</td>\n",
       "      <td>3504</td>\n",
       "      <td>12.0</td>\n",
       "      <td>70</td>\n",
       "      <td>usa</td>\n",
       "      <td>chevrolet chevelle malibu</td>\n",
       "    </tr>\n",
       "    <tr>\n",
       "      <th>1</th>\n",
       "      <td>15.0</td>\n",
       "      <td>8</td>\n",
       "      <td>350.0</td>\n",
       "      <td>165.0</td>\n",
       "      <td>3693</td>\n",
       "      <td>11.5</td>\n",
       "      <td>70</td>\n",
       "      <td>usa</td>\n",
       "      <td>buick skylark 320</td>\n",
       "    </tr>\n",
       "    <tr>\n",
       "      <th>2</th>\n",
       "      <td>18.0</td>\n",
       "      <td>8</td>\n",
       "      <td>318.0</td>\n",
       "      <td>150.0</td>\n",
       "      <td>3436</td>\n",
       "      <td>11.0</td>\n",
       "      <td>70</td>\n",
       "      <td>usa</td>\n",
       "      <td>plymouth satellite</td>\n",
       "    </tr>\n",
       "    <tr>\n",
       "      <th>3</th>\n",
       "      <td>16.0</td>\n",
       "      <td>8</td>\n",
       "      <td>304.0</td>\n",
       "      <td>150.0</td>\n",
       "      <td>3433</td>\n",
       "      <td>12.0</td>\n",
       "      <td>70</td>\n",
       "      <td>usa</td>\n",
       "      <td>amc rebel sst</td>\n",
       "    </tr>\n",
       "    <tr>\n",
       "      <th>4</th>\n",
       "      <td>17.0</td>\n",
       "      <td>8</td>\n",
       "      <td>302.0</td>\n",
       "      <td>140.0</td>\n",
       "      <td>3449</td>\n",
       "      <td>10.5</td>\n",
       "      <td>70</td>\n",
       "      <td>usa</td>\n",
       "      <td>ford torino</td>\n",
       "    </tr>\n",
       "    <tr>\n",
       "      <th>...</th>\n",
       "      <td>...</td>\n",
       "      <td>...</td>\n",
       "      <td>...</td>\n",
       "      <td>...</td>\n",
       "      <td>...</td>\n",
       "      <td>...</td>\n",
       "      <td>...</td>\n",
       "      <td>...</td>\n",
       "      <td>...</td>\n",
       "    </tr>\n",
       "    <tr>\n",
       "      <th>393</th>\n",
       "      <td>27.0</td>\n",
       "      <td>4</td>\n",
       "      <td>140.0</td>\n",
       "      <td>86.0</td>\n",
       "      <td>2790</td>\n",
       "      <td>15.6</td>\n",
       "      <td>82</td>\n",
       "      <td>usa</td>\n",
       "      <td>ford mustang gl</td>\n",
       "    </tr>\n",
       "    <tr>\n",
       "      <th>394</th>\n",
       "      <td>44.0</td>\n",
       "      <td>4</td>\n",
       "      <td>97.0</td>\n",
       "      <td>52.0</td>\n",
       "      <td>2130</td>\n",
       "      <td>24.6</td>\n",
       "      <td>82</td>\n",
       "      <td>europe</td>\n",
       "      <td>vw pickup</td>\n",
       "    </tr>\n",
       "    <tr>\n",
       "      <th>395</th>\n",
       "      <td>32.0</td>\n",
       "      <td>4</td>\n",
       "      <td>135.0</td>\n",
       "      <td>84.0</td>\n",
       "      <td>2295</td>\n",
       "      <td>11.6</td>\n",
       "      <td>82</td>\n",
       "      <td>usa</td>\n",
       "      <td>dodge rampage</td>\n",
       "    </tr>\n",
       "    <tr>\n",
       "      <th>396</th>\n",
       "      <td>28.0</td>\n",
       "      <td>4</td>\n",
       "      <td>120.0</td>\n",
       "      <td>79.0</td>\n",
       "      <td>2625</td>\n",
       "      <td>18.6</td>\n",
       "      <td>82</td>\n",
       "      <td>usa</td>\n",
       "      <td>ford ranger</td>\n",
       "    </tr>\n",
       "    <tr>\n",
       "      <th>397</th>\n",
       "      <td>31.0</td>\n",
       "      <td>4</td>\n",
       "      <td>119.0</td>\n",
       "      <td>82.0</td>\n",
       "      <td>2720</td>\n",
       "      <td>19.4</td>\n",
       "      <td>82</td>\n",
       "      <td>usa</td>\n",
       "      <td>chevy s-10</td>\n",
       "    </tr>\n",
       "  </tbody>\n",
       "</table>\n",
       "<p>398 rows × 9 columns</p>\n",
       "</div>"
      ],
      "text/plain": [
       "      mpg  cylinders  displacement  horsepower  weight  acceleration  \\\n",
       "0    18.0          8         307.0       130.0    3504          12.0   \n",
       "1    15.0          8         350.0       165.0    3693          11.5   \n",
       "2    18.0          8         318.0       150.0    3436          11.0   \n",
       "3    16.0          8         304.0       150.0    3433          12.0   \n",
       "4    17.0          8         302.0       140.0    3449          10.5   \n",
       "..    ...        ...           ...         ...     ...           ...   \n",
       "393  27.0          4         140.0        86.0    2790          15.6   \n",
       "394  44.0          4          97.0        52.0    2130          24.6   \n",
       "395  32.0          4         135.0        84.0    2295          11.6   \n",
       "396  28.0          4         120.0        79.0    2625          18.6   \n",
       "397  31.0          4         119.0        82.0    2720          19.4   \n",
       "\n",
       "     model_year  origin                       name  \n",
       "0            70     usa  chevrolet chevelle malibu  \n",
       "1            70     usa          buick skylark 320  \n",
       "2            70     usa         plymouth satellite  \n",
       "3            70     usa              amc rebel sst  \n",
       "4            70     usa                ford torino  \n",
       "..          ...     ...                        ...  \n",
       "393          82     usa            ford mustang gl  \n",
       "394          82  europe                  vw pickup  \n",
       "395          82     usa              dodge rampage  \n",
       "396          82     usa                ford ranger  \n",
       "397          82     usa                 chevy s-10  \n",
       "\n",
       "[398 rows x 9 columns]"
      ]
     },
     "execution_count": 16,
     "metadata": {},
     "output_type": "execute_result"
    }
   ],
   "source": [
    "df"
   ]
  },
  {
   "cell_type": "markdown",
   "id": "a782ff28",
   "metadata": {},
   "source": [
    "#### 기존에 배웠던 내용\n",
    "- 평균대치\n",
    "- 선형보간\n",
    "- sklean iterative imputer를 사용해서 실제 결측값을 대체하고\n",
    "- 해당 결측값을 대체한 것을 회귀분석을 통해 mse 차이가 어떤 식으로 나오는지 비교\n",
    "- mse 오차에 대한 개념 예측한 값과 실제 값의 차이\n",
    "- 선형 보간의 경우는 결국 interpolation 기존의 데이터를 보고 결측을 메꾸는 방식인데\n",
    "- 해당 방식이 과연 정말 데이터의 올바른 결측치 대체 방법인지?"
   ]
  },
  {
   "cell_type": "code",
   "execution_count": 17,
   "id": "4d2ebd0d",
   "metadata": {},
   "outputs": [
    {
     "data": {
      "text/plain": [
       "mpg             0\n",
       "cylinders       0\n",
       "displacement    0\n",
       "horsepower      6\n",
       "weight          0\n",
       "acceleration    0\n",
       "model_year      0\n",
       "origin          0\n",
       "name            0\n",
       "dtype: int64"
      ]
     },
     "execution_count": 17,
     "metadata": {},
     "output_type": "execute_result"
    }
   ],
   "source": [
    "df.isna().sum()"
   ]
  },
  {
   "cell_type": "code",
   "execution_count": 18,
   "id": "072ed56c",
   "metadata": {},
   "outputs": [],
   "source": [
    "df.dropna(inplace=True)"
   ]
  },
  {
   "cell_type": "code",
   "execution_count": 19,
   "id": "0baf8c80",
   "metadata": {},
   "outputs": [],
   "source": [
    "df_x = df[['horsepower','weight','origin','name']]"
   ]
  },
  {
   "cell_type": "code",
   "execution_count": 20,
   "id": "a954bc24",
   "metadata": {},
   "outputs": [],
   "source": [
    "## 결측치를 임의로 만듬, 랜덤하게 20개\n",
    "msv = np.random.randint(0,300,size=20)"
   ]
  },
  {
   "cell_type": "code",
   "execution_count": 21,
   "id": "7f53e0cf",
   "metadata": {},
   "outputs": [
    {
     "data": {
      "text/plain": [
       "array([ 71, 138,  13, 125, 276,  51, 125, 248, 299,  86,  76,  86,  67,\n",
       "       133, 140, 113, 297, 152, 182, 172])"
      ]
     },
     "execution_count": 21,
     "metadata": {},
     "output_type": "execute_result"
    }
   ],
   "source": [
    "msv"
   ]
  },
  {
   "cell_type": "code",
   "execution_count": 22,
   "id": "eda925cb",
   "metadata": {},
   "outputs": [],
   "source": [
    "df_x.iloc[msv]=np.nan"
   ]
  },
  {
   "cell_type": "code",
   "execution_count": 23,
   "id": "46ca0e29",
   "metadata": {},
   "outputs": [
    {
     "data": {
      "text/plain": [
       "horsepower    18\n",
       "weight        18\n",
       "origin        18\n",
       "name          18\n",
       "dtype: int64"
      ]
     },
     "execution_count": 23,
     "metadata": {},
     "output_type": "execute_result"
    }
   ],
   "source": [
    "df_x.isna().sum()"
   ]
  },
  {
   "cell_type": "markdown",
   "id": "873f79c8",
   "metadata": {},
   "source": [
    "#### 평균으로 대체\n",
    "- horsepower 18\n",
    "- weight 18\n",
    "- origin 18\n",
    "- name 18"
   ]
  },
  {
   "cell_type": "code",
   "execution_count": 24,
   "id": "19184a70",
   "metadata": {},
   "outputs": [
    {
     "data": {
      "text/plain": [
       "104.27807486631016"
      ]
     },
     "execution_count": 24,
     "metadata": {},
     "output_type": "execute_result"
    }
   ],
   "source": [
    "df_x.horsepower.mean()"
   ]
  },
  {
   "cell_type": "code",
   "execution_count": 25,
   "id": "d9830eaa",
   "metadata": {},
   "outputs": [
    {
     "data": {
      "text/plain": [
       "2973.4411764705883"
      ]
     },
     "execution_count": 25,
     "metadata": {},
     "output_type": "execute_result"
    }
   ],
   "source": [
    "df_x.weight.mean()"
   ]
  },
  {
   "cell_type": "markdown",
   "id": "6a52c8fd",
   "metadata": {},
   "source": [
    "## 필수과제 1\n",
    "1. simpleimputer (간단한 개념이라 리서치하시고 실제 코드 작성하시고 값에 대해서 결과 정리까지)\n",
    "- 다양하게 통계치 지정할 수 있음 (평균, 최빈값 등등)\n",
    "- 결과가 어떤식으로 바뀌는지 mpg 데이터를 가지고 확인\n",
    "\n",
    "## 필수과제 2\n",
    "2. 만약 시계열 데이터라면? 추세가 반영될 수 있기 때문에 선형보간이 더 좋은 결과가 나올 수 있음\n",
    "- 시계열데이터를 공유할 예정 -> 해당 데이터를 가지고 결측값을 만들고 오늘 배웠던\n",
    "- 평균 또는 최빈값 등 기초통계량\n",
    "- 선형보간 등 interpolation\n",
    "- iterative imputer\n",
    "\n",
    "- 시계열데이터는 어떤식으로 결측값을 대체 했을 때 더 좋은 결과가 나오는지 확인하기!\n",
    "- 다만 시계열데이터를 결측값을 만들기 전에 기존 데이터의 분포와 관계, 컬럼들에 대한 관계들을 확인해보고 (간단하나 시각화로)\n",
    "- 결측치를 만들어서 결과를 비교해 주세요\n",
    "\n",
    "## 필수과제3\n",
    "- 최종 결과물은 pdf파일로 정리하여 5장 내로 결과만 정리해서 공유해 주세요\n",
    "\n",
    "### 이 과제는 팀끼리 필수과제 제출해도 됨\n",
    "- 개인인 경우에는 개인이 과제 제출\n",
    "- 팀끼리 하는 경우는 각자 개인 노션에 올려야함\n",
    "\n",
    "### 데드라인\n",
    "- 복습과제는 요번 코드는 어렵기 때문에 따라하는 정도로만\n",
    "- 필수과제는 2주의 시간 동안 진행 (10/8)까지 제출\n",
    "- 모든 필수과제는 다 따로 제출\n",
    "- 복습과제는 일주일 기한 넘지 않게 제출"
   ]
  }
 ],
 "metadata": {
  "kernelspec": {
   "display_name": "Python 3 (ipykernel)",
   "language": "python",
   "name": "python3"
  },
  "language_info": {
   "codemirror_mode": {
    "name": "ipython",
    "version": 3
   },
   "file_extension": ".py",
   "mimetype": "text/x-python",
   "name": "python",
   "nbconvert_exporter": "python",
   "pygments_lexer": "ipython3",
   "version": "3.11.4"
  }
 },
 "nbformat": 4,
 "nbformat_minor": 5
}
