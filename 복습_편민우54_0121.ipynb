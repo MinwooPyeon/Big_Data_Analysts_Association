{
 "cells": [
  {
   "cell_type": "markdown",
   "id": "68e46c6f",
   "metadata": {},
   "source": [
    "## 정규표현식\n",
    "- 문자열 처리할 때 나만의 패턴이나, 분석가의 다양한 사례에서 요구하는 조건의 패턴을 만들어서 처리하는 방법!\n",
    "- 그 방법을 정규표현식을 이용해서 대부분 처리한다!\n",
    "- split, strip, 배웠던 문자열 문법들이 정규표현식과 만나면 정말 다양하게 응용할 수 있습니다!\n",
    "- 이메일주소찾기, 아이디,비번 패턴찾기, 회원가입 아이디 패턴 등 이런 다양한 패턴들을 만들 수 있다!\n",
    "\n",
    "### 영문 대소문자 바꾸기\n",
    "- lower- 소문자 변경\n",
    "- upper- 대문자 변경\n",
    "- capitailize - 앞문자 대문자로 변경\n",
    "- title - 단위별 앞문자 대문자로 변경하기\n",
    "- swapcase - 소문자는 대문자, 대문자는 소문자로 변경하기!"
   ]
  },
  {
   "cell_type": "code",
   "execution_count": 2,
   "id": "2eb70e42",
   "metadata": {},
   "outputs": [],
   "source": [
    "import re"
   ]
  },
  {
   "cell_type": "code",
   "execution_count": 7,
   "id": "e1c40a7e",
   "metadata": {},
   "outputs": [
    {
     "data": {
      "text/plain": [
       "<re.Match object; span=(0, 5), match='Hello'>"
      ]
     },
     "execution_count": 7,
     "metadata": {},
     "output_type": "execute_result"
    }
   ],
   "source": [
    "# 패턴 찾는 방법!\n",
    "# 내가원하는 패턴인 Hello 찾아서 -> 해당 인덱스 출력!\n",
    "\n",
    "re.match('Hello', 'Hello, world!')"
   ]
  },
  {
   "cell_type": "code",
   "execution_count": 8,
   "id": "29ccbabc",
   "metadata": {},
   "outputs": [
    {
     "data": {
      "text/plain": [
       "<re.Match object; span=(0, 5), match='Hello'>"
      ]
     },
     "execution_count": 8,
     "metadata": {},
     "output_type": "execute_result"
    }
   ],
   "source": [
    "re.search('Hello', 'Hello, world!')\n",
    "# 내가원하는 패턴인 Hello 찾아서 -> 해당 인덱스 출력!"
   ]
  },
  {
   "cell_type": "code",
   "execution_count": 9,
   "id": "18aafbdb",
   "metadata": {},
   "outputs": [],
   "source": [
    "re.match('Hello', 'world! Hello ')"
   ]
  },
  {
   "cell_type": "markdown",
   "id": "66a14096",
   "metadata": {},
   "source": [
    "- match는 시작부터 찾기 때문에 시작에 Hello가 없어서 못 찾음"
   ]
  },
  {
   "cell_type": "code",
   "execution_count": 10,
   "id": "3b887cc9",
   "metadata": {},
   "outputs": [
    {
     "data": {
      "text/plain": [
       "<re.Match object; span=(7, 12), match='Hello'>"
      ]
     },
     "execution_count": 10,
     "metadata": {},
     "output_type": "execute_result"
    }
   ],
   "source": [
    "re.search('Hello', 'world! Hello ')"
   ]
  },
  {
   "cell_type": "markdown",
   "id": "7b8b8716",
   "metadata": {},
   "source": [
    "- search는 전체 문자열에서 확인"
   ]
  },
  {
   "cell_type": "markdown",
   "id": "28486bba",
   "metadata": {},
   "source": [
    "### 정규 표현식\n",
    "- 숫자를 [0-9]\n",
    "- 영어소문자 [a-z]\n",
    "- 영어대문자 [A-Z]\n",
    "- 한글 [가-힣]\n",
    "- 자음 모음 [ㄱ-ㅎ] [ㅏ-ㅣ]\n",
    "\n",
    "- ^ not 표현으로 제외하고 전부다 라는 것\n",
    "- '+', '*' 0개 이상 또는 1개 이상의 패턴을 모두 찾는 것!"
   ]
  },
  {
   "cell_type": "code",
   "execution_count": 13,
   "id": "22175a6a",
   "metadata": {},
   "outputs": [
    {
     "data": {
      "text/plain": [
       "<re.Match object; span=(0, 1), match='1'>"
      ]
     },
     "execution_count": 13,
     "metadata": {},
     "output_type": "execute_result"
    }
   ],
   "source": [
    "# 숫자 패턴만 찾기\n",
    "\n",
    "re.search('[0-9]','1231243134123,asdfasdf!@3121')"
   ]
  },
  {
   "cell_type": "code",
   "execution_count": 15,
   "id": "1fc669bc",
   "metadata": {},
   "outputs": [
    {
     "data": {
      "text/plain": [
       "<re.Match object; span=(0, 13), match='1231243134123'>"
      ]
     },
     "execution_count": 15,
     "metadata": {},
     "output_type": "execute_result"
    }
   ],
   "source": [
    "# 정규표현식을 이용해서 다양한 문자열 내에서 내가 원하는 문자 패턴을 찾을 수 있음\n",
    "re.search('[0-9]+','1231243134123,asdfasdf!@3121')"
   ]
  },
  {
   "cell_type": "code",
   "execution_count": 16,
   "id": "cc54c017",
   "metadata": {},
   "outputs": [
    {
     "data": {
      "text/plain": [
       "<re.Match object; span=(6, 9), match='홍길동'>"
      ]
     },
     "execution_count": 16,
     "metadata": {},
     "output_type": "execute_result"
    }
   ],
   "source": [
    "re.search('[가-힣]+','12345/홍길동/asdfa@naver.com/010-111-1111')"
   ]
  },
  {
   "cell_type": "markdown",
   "id": "d5832c2d",
   "metadata": {},
   "source": [
    "- {} 숫자를 넣으면 해당 패턴의 문자를 몇 개 찾아달라!\n",
    "- e.g {3} 3개의 패턴을 찾아라!\n",
    "\n",
    "- 010-0000-0000 "
   ]
  },
  {
   "cell_type": "code",
   "execution_count": 18,
   "id": "a25e6555",
   "metadata": {},
   "outputs": [
    {
     "data": {
      "text/plain": [
       "<re.Match object; span=(0, 13), match='010-1234-5678'>"
      ]
     },
     "execution_count": 18,
     "metadata": {},
     "output_type": "execute_result"
    }
   ],
   "source": [
    "# 휴대전화번호 패턴 찾기!\n",
    "re.match('[0-9]{3}-[0-9]{4}-[0-9]{4}','010-1234-5678')"
   ]
  },
  {
   "cell_type": "markdown",
   "id": "223d1aab",
   "metadata": {},
   "source": [
    "- 정규표현식을 여러 개 합쳐서 사용 가능"
   ]
  },
  {
   "cell_type": "code",
   "execution_count": 20,
   "id": "d78c51df",
   "metadata": {},
   "outputs": [
    {
     "data": {
      "text/plain": [
       "<re.Match object; span=(0, 9), match='12345/홍길동'>"
      ]
     },
     "execution_count": 20,
     "metadata": {},
     "output_type": "execute_result"
    }
   ],
   "source": [
    "re.search('[가-힣a-zA-Z0-9]+/[가-힣a-zA-Z0-9]+','12345/홍길동/asdfa@naver.com/010-111-1111')"
   ]
  },
  {
   "cell_type": "markdown",
   "id": "b9834775",
   "metadata": {},
   "source": [
    "### 간단하게 약어의 개념으로\n",
    "\n",
    "- \\d 모든 숫자\n",
    "- \\D 모든 숫자 제외\n",
    "- \\w  영문, 대소문자, 숫자, 밑줄 문자 포함\n",
    "- \\W  영문, 대소문자, 숫자, 밑줄 문자 제외한 나머지"
   ]
  },
  {
   "cell_type": "code",
   "execution_count": 21,
   "id": "42400f3d",
   "metadata": {},
   "outputs": [
    {
     "data": {
      "text/plain": [
       "<re.Match object; span=(0, 13), match='1231243134123'>"
      ]
     },
     "execution_count": 21,
     "metadata": {},
     "output_type": "execute_result"
    }
   ],
   "source": [
    "re.search('\\d+','1231243134123,asdfasdf!@3121')"
   ]
  },
  {
   "cell_type": "markdown",
   "id": "d2f3401f",
   "metadata": {},
   "source": [
    "### 정규표현식도 그룹으로 사용 가능"
   ]
  },
  {
   "cell_type": "code",
   "execution_count": 22,
   "id": "5ef1e7eb",
   "metadata": {},
   "outputs": [],
   "source": [
    "ab = re.match('([0-9]+) ([a-z]+)','1234 abc')\n",
    "#ab는 두 개의 그룹으로 정규표현식을 진행"
   ]
  },
  {
   "cell_type": "code",
   "execution_count": 23,
   "id": "d2b8217e",
   "metadata": {},
   "outputs": [
    {
     "data": {
      "text/plain": [
       "'1234'"
      ]
     },
     "execution_count": 23,
     "metadata": {},
     "output_type": "execute_result"
    }
   ],
   "source": [
    "ab.group(1)"
   ]
  },
  {
   "cell_type": "code",
   "execution_count": 24,
   "id": "bda9f5c6",
   "metadata": {},
   "outputs": [
    {
     "data": {
      "text/plain": [
       "'abc'"
      ]
     },
     "execution_count": 24,
     "metadata": {},
     "output_type": "execute_result"
    }
   ],
   "source": [
    "ab.group(2)"
   ]
  },
  {
   "cell_type": "code",
   "execution_count": 25,
   "id": "ad776bac",
   "metadata": {},
   "outputs": [
    {
     "data": {
      "text/plain": [
       "'1234 abc'"
      ]
     },
     "execution_count": 25,
     "metadata": {},
     "output_type": "execute_result"
    }
   ],
   "source": [
    "ab.group(0)"
   ]
  },
  {
   "cell_type": "markdown",
   "id": "24eab820",
   "metadata": {},
   "source": [
    "### 실제 예제 데이터를 가지고 정규표현식 및 텍스트 분석"
   ]
  },
  {
   "cell_type": "code",
   "execution_count": 27,
   "id": "00c77bec",
   "metadata": {},
   "outputs": [],
   "source": [
    "import pandas as pd\n",
    "import numpy as np\n",
    "df=pd.read_csv('movie_rv.csv')"
   ]
  },
  {
   "cell_type": "code",
   "execution_count": 28,
   "id": "fa59207b",
   "metadata": {},
   "outputs": [
    {
     "data": {
      "text/html": [
       "<div>\n",
       "<style scoped>\n",
       "    .dataframe tbody tr th:only-of-type {\n",
       "        vertical-align: middle;\n",
       "    }\n",
       "\n",
       "    .dataframe tbody tr th {\n",
       "        vertical-align: top;\n",
       "    }\n",
       "\n",
       "    .dataframe thead th {\n",
       "        text-align: right;\n",
       "    }\n",
       "</style>\n",
       "<table border=\"1\" class=\"dataframe\">\n",
       "  <thead>\n",
       "    <tr style=\"text-align: right;\">\n",
       "      <th></th>\n",
       "      <th>Unnamed: 0</th>\n",
       "      <th>id</th>\n",
       "      <th>document</th>\n",
       "      <th>label</th>\n",
       "    </tr>\n",
       "  </thead>\n",
       "  <tbody>\n",
       "    <tr>\n",
       "      <th>0</th>\n",
       "      <td>0</td>\n",
       "      <td>9976970</td>\n",
       "      <td>아 더빙.. 진짜 짜증나네요 목소리</td>\n",
       "      <td>0</td>\n",
       "    </tr>\n",
       "    <tr>\n",
       "      <th>1</th>\n",
       "      <td>1</td>\n",
       "      <td>3819312</td>\n",
       "      <td>흠...포스터보고 초딩영화줄....오버연기조차 가볍지 않구나</td>\n",
       "      <td>1</td>\n",
       "    </tr>\n",
       "    <tr>\n",
       "      <th>2</th>\n",
       "      <td>2</td>\n",
       "      <td>10265843</td>\n",
       "      <td>너무재밓었다그래서보는것을추천한다</td>\n",
       "      <td>0</td>\n",
       "    </tr>\n",
       "    <tr>\n",
       "      <th>3</th>\n",
       "      <td>3</td>\n",
       "      <td>9045019</td>\n",
       "      <td>교도소 이야기구먼 ..솔직히 재미는 없다..평점 조정</td>\n",
       "      <td>0</td>\n",
       "    </tr>\n",
       "    <tr>\n",
       "      <th>4</th>\n",
       "      <td>4</td>\n",
       "      <td>6483659</td>\n",
       "      <td>사이몬페그의 익살스런 연기가 돋보였던 영화!스파이더맨에서 늙어보이기만 했던 커스틴 ...</td>\n",
       "      <td>1</td>\n",
       "    </tr>\n",
       "  </tbody>\n",
       "</table>\n",
       "</div>"
      ],
      "text/plain": [
       "   Unnamed: 0        id                                           document  \\\n",
       "0           0   9976970                                아 더빙.. 진짜 짜증나네요 목소리   \n",
       "1           1   3819312                  흠...포스터보고 초딩영화줄....오버연기조차 가볍지 않구나   \n",
       "2           2  10265843                                  너무재밓었다그래서보는것을추천한다   \n",
       "3           3   9045019                      교도소 이야기구먼 ..솔직히 재미는 없다..평점 조정   \n",
       "4           4   6483659  사이몬페그의 익살스런 연기가 돋보였던 영화!스파이더맨에서 늙어보이기만 했던 커스틴 ...   \n",
       "\n",
       "   label  \n",
       "0      0  \n",
       "1      1  \n",
       "2      0  \n",
       "3      0  \n",
       "4      1  "
      ]
     },
     "execution_count": 28,
     "metadata": {},
     "output_type": "execute_result"
    }
   ],
   "source": [
    "df.head()"
   ]
  },
  {
   "cell_type": "markdown",
   "id": "b798d94d",
   "metadata": {},
   "source": [
    "### pandas 에서 제공하는 str 문법!\n",
    "- 기존 python 문자열 다루는 문법과 같이 응용해서 사용하면 된다!\n",
    "\n",
    "    - 시리즈 데이터형태.str.내가 원하는 문법들"
   ]
  },
  {
   "cell_type": "code",
   "execution_count": 30,
   "id": "9e0932e8",
   "metadata": {},
   "outputs": [
    {
     "data": {
      "text/plain": [
       "0                                       아 더빙.. 진짜 짜증나네요 목소리\n",
       "1                         흠...포스터보고 초딩영화줄....오버연기조차 가볍지 않구나\n",
       "2                                         너무재밓었다그래서보는것을추천한다\n",
       "3                             교도소 이야기구먼 ..솔직히 재미는 없다..평점 조정\n",
       "4         사이몬페그의 익살스런 연기가 돋보였던 영화!스파이더맨에서 늙어보이기만 했던 커스틴 ...\n",
       "                                ...                        \n",
       "149995                                  인간이 문제지.. 소는 뭔죄인가..\n",
       "149996                                        평점이 너무 낮아서...\n",
       "149997                      이게 뭐요? 한국인은 거들먹거리고 필리핀 혼혈은 착하다?\n",
       "149998                          청춘 영화의 최고봉.방황과 우울했던 날들의 자화상\n",
       "149999                             한국 영화 최초로 수간하는 내용이 담긴 영화\n",
       "Name: document, Length: 150000, dtype: object"
      ]
     },
     "execution_count": 30,
     "metadata": {},
     "output_type": "execute_result"
    }
   ],
   "source": [
    "# stirp() 공백제거 (lstrip, rstrip)\n",
    "df['document'].str.strip()"
   ]
  },
  {
   "cell_type": "markdown",
   "id": "3ff32429",
   "metadata": {},
   "source": [
    "- pad 길이 맞추거나, 0패딩 맞출 때 하는 문법"
   ]
  },
  {
   "cell_type": "code",
   "execution_count": 33,
   "id": "2c782bb6",
   "metadata": {},
   "outputs": [
    {
     "data": {
      "text/plain": [
       "0                            /////아 더빙.. 진짜 짜증나네요 목소리//////\n",
       "1                         흠...포스터보고 초딩영화줄....오버연기조차 가볍지 않구나\n",
       "2                            //////너무재밓었다그래서보는것을추천한다///////\n",
       "3                            교도소 이야기구먼 ..솔직히 재미는 없다..평점 조정/\n",
       "4         사이몬페그의 익살스런 연기가 돋보였던 영화!스파이더맨에서 늙어보이기만 했던 커스틴 ...\n",
       "                                ...                        \n",
       "149995                       /////인간이 문제지.. 소는 뭔죄인가..//////\n",
       "149996                       ////////평점이 너무 낮아서.../////////\n",
       "149997                      이게 뭐요? 한국인은 거들먹거리고 필리핀 혼혈은 착하다?\n",
       "149998                       /청춘 영화의 최고봉.방황과 우울했던 날들의 자화상//\n",
       "149999                       ///한국 영화 최초로 수간하는 내용이 담긴 영화///\n",
       "Name: document, Length: 150000, dtype: object"
      ]
     },
     "execution_count": 33,
     "metadata": {},
     "output_type": "execute_result"
    }
   ],
   "source": [
    "#df['document'].str.pad(width=30, side='left', fillchar='*')\n",
    "\n",
    "df['document'].str.center(width=30, fillchar='/')\n",
    "# 가운데 기준으로 원하는 문자를 추가 가능"
   ]
  },
  {
   "cell_type": "code",
   "execution_count": 32,
   "id": "a25f12e2",
   "metadata": {},
   "outputs": [
    {
     "data": {
      "text/plain": [
       "0                            아 더빙.. 진짜 짜증나네요 목소리///////////\n",
       "1                         흠...포스터보고 초딩영화줄....오버연기조차 가볍지 않구나\n",
       "2                            너무재밓었다그래서보는것을추천한다/////////////\n",
       "3                            교도소 이야기구먼 ..솔직히 재미는 없다..평점 조정/\n",
       "4         사이몬페그의 익살스런 연기가 돋보였던 영화!스파이더맨에서 늙어보이기만 했던 커스틴 ...\n",
       "                                ...                        \n",
       "149995                       인간이 문제지.. 소는 뭔죄인가..///////////\n",
       "149996                       평점이 너무 낮아서.../////////////////\n",
       "149997                      이게 뭐요? 한국인은 거들먹거리고 필리핀 혼혈은 착하다?\n",
       "149998                       청춘 영화의 최고봉.방황과 우울했던 날들의 자화상///\n",
       "149999                       한국 영화 최초로 수간하는 내용이 담긴 영화//////\n",
       "Name: document, Length: 150000, dtype: object"
      ]
     },
     "execution_count": 32,
     "metadata": {},
     "output_type": "execute_result"
    }
   ],
   "source": [
    "# 오른쪽에 맞춤\n",
    "df['document'].str.ljust(width=30, fillchar='/')"
   ]
  },
  {
   "cell_type": "code",
   "execution_count": 34,
   "id": "bc86d64f",
   "metadata": {},
   "outputs": [
    {
     "data": {
      "text/plain": [
       "0                            00000000000아 더빙.. 진짜 짜증나네요 목소리\n",
       "1                         흠...포스터보고 초딩영화줄....오버연기조차 가볍지 않구나\n",
       "2                            0000000000000너무재밓었다그래서보는것을추천한다\n",
       "3                            0교도소 이야기구먼 ..솔직히 재미는 없다..평점 조정\n",
       "4         사이몬페그의 익살스런 연기가 돋보였던 영화!스파이더맨에서 늙어보이기만 했던 커스틴 ...\n",
       "                                ...                        \n",
       "149995                       00000000000인간이 문제지.. 소는 뭔죄인가..\n",
       "149996                       00000000000000000평점이 너무 낮아서...\n",
       "149997                      이게 뭐요? 한국인은 거들먹거리고 필리핀 혼혈은 착하다?\n",
       "149998                       000청춘 영화의 최고봉.방황과 우울했던 날들의 자화상\n",
       "149999                       000000한국 영화 최초로 수간하는 내용이 담긴 영화\n",
       "Name: document, Length: 150000, dtype: object"
      ]
     },
     "execution_count": 34,
     "metadata": {},
     "output_type": "execute_result"
    }
   ],
   "source": [
    "# 0값을 패딩 길이에 맞춰서 채워줌\n",
    "df['document'].str.zfill(width=30)"
   ]
  },
  {
   "cell_type": "markdown",
   "id": "9c2501b4",
   "metadata": {},
   "source": [
    "- split() : 문자열 나누기!"
   ]
  },
  {
   "cell_type": "code",
   "execution_count": 35,
   "id": "2745af7f",
   "metadata": {},
   "outputs": [],
   "source": [
    "#split() 구분자 넣고, 원하는 값 나누는 것, expand=True 여러 컬럼으로 나누기, False 1개 컬럼에 나누기\n",
    "df[['document_1','document_2']]=df['document'].str.split(' ', n=1, expand=True )#n구분자 1개"
   ]
  },
  {
   "cell_type": "code",
   "execution_count": 36,
   "id": "67db7f18",
   "metadata": {},
   "outputs": [],
   "source": [
    "#partition() : 좌측에 먼저 출현한 구분자를 나누는 것 # 3개 기준으로 해서 구분자로 나눠서 데이터를 넣는다.\n",
    "df[['document_1n','document_2n','document_3n']]=df['document'].str.partition(sep=' ')"
   ]
  },
  {
   "cell_type": "code",
   "execution_count": 37,
   "id": "09c0029c",
   "metadata": {},
   "outputs": [
    {
     "data": {
      "text/html": [
       "<div>\n",
       "<style scoped>\n",
       "    .dataframe tbody tr th:only-of-type {\n",
       "        vertical-align: middle;\n",
       "    }\n",
       "\n",
       "    .dataframe tbody tr th {\n",
       "        vertical-align: top;\n",
       "    }\n",
       "\n",
       "    .dataframe thead th {\n",
       "        text-align: right;\n",
       "    }\n",
       "</style>\n",
       "<table border=\"1\" class=\"dataframe\">\n",
       "  <thead>\n",
       "    <tr style=\"text-align: right;\">\n",
       "      <th></th>\n",
       "      <th>Unnamed: 0</th>\n",
       "      <th>id</th>\n",
       "      <th>document</th>\n",
       "      <th>label</th>\n",
       "      <th>document_1</th>\n",
       "      <th>document_2</th>\n",
       "      <th>document_1n</th>\n",
       "      <th>document_2n</th>\n",
       "      <th>document_3n</th>\n",
       "    </tr>\n",
       "  </thead>\n",
       "  <tbody>\n",
       "    <tr>\n",
       "      <th>0</th>\n",
       "      <td>0</td>\n",
       "      <td>9976970</td>\n",
       "      <td>아 더빙.. 진짜 짜증나네요 목소리</td>\n",
       "      <td>0</td>\n",
       "      <td>아</td>\n",
       "      <td>더빙.. 진짜 짜증나네요 목소리</td>\n",
       "      <td>아</td>\n",
       "      <td></td>\n",
       "      <td>더빙.. 진짜 짜증나네요 목소리</td>\n",
       "    </tr>\n",
       "    <tr>\n",
       "      <th>1</th>\n",
       "      <td>1</td>\n",
       "      <td>3819312</td>\n",
       "      <td>흠...포스터보고 초딩영화줄....오버연기조차 가볍지 않구나</td>\n",
       "      <td>1</td>\n",
       "      <td>흠...포스터보고</td>\n",
       "      <td>초딩영화줄....오버연기조차 가볍지 않구나</td>\n",
       "      <td>흠...포스터보고</td>\n",
       "      <td></td>\n",
       "      <td>초딩영화줄....오버연기조차 가볍지 않구나</td>\n",
       "    </tr>\n",
       "    <tr>\n",
       "      <th>2</th>\n",
       "      <td>2</td>\n",
       "      <td>10265843</td>\n",
       "      <td>너무재밓었다그래서보는것을추천한다</td>\n",
       "      <td>0</td>\n",
       "      <td>너무재밓었다그래서보는것을추천한다</td>\n",
       "      <td>None</td>\n",
       "      <td>너무재밓었다그래서보는것을추천한다</td>\n",
       "      <td></td>\n",
       "      <td></td>\n",
       "    </tr>\n",
       "    <tr>\n",
       "      <th>3</th>\n",
       "      <td>3</td>\n",
       "      <td>9045019</td>\n",
       "      <td>교도소 이야기구먼 ..솔직히 재미는 없다..평점 조정</td>\n",
       "      <td>0</td>\n",
       "      <td>교도소</td>\n",
       "      <td>이야기구먼 ..솔직히 재미는 없다..평점 조정</td>\n",
       "      <td>교도소</td>\n",
       "      <td></td>\n",
       "      <td>이야기구먼 ..솔직히 재미는 없다..평점 조정</td>\n",
       "    </tr>\n",
       "    <tr>\n",
       "      <th>4</th>\n",
       "      <td>4</td>\n",
       "      <td>6483659</td>\n",
       "      <td>사이몬페그의 익살스런 연기가 돋보였던 영화!스파이더맨에서 늙어보이기만 했던 커스틴 ...</td>\n",
       "      <td>1</td>\n",
       "      <td>사이몬페그의</td>\n",
       "      <td>익살스런 연기가 돋보였던 영화!스파이더맨에서 늙어보이기만 했던 커스틴 던스트가 너무...</td>\n",
       "      <td>사이몬페그의</td>\n",
       "      <td></td>\n",
       "      <td>익살스런 연기가 돋보였던 영화!스파이더맨에서 늙어보이기만 했던 커스틴 던스트가 너무...</td>\n",
       "    </tr>\n",
       "  </tbody>\n",
       "</table>\n",
       "</div>"
      ],
      "text/plain": [
       "   Unnamed: 0        id                                           document  \\\n",
       "0           0   9976970                                아 더빙.. 진짜 짜증나네요 목소리   \n",
       "1           1   3819312                  흠...포스터보고 초딩영화줄....오버연기조차 가볍지 않구나   \n",
       "2           2  10265843                                  너무재밓었다그래서보는것을추천한다   \n",
       "3           3   9045019                      교도소 이야기구먼 ..솔직히 재미는 없다..평점 조정   \n",
       "4           4   6483659  사이몬페그의 익살스런 연기가 돋보였던 영화!스파이더맨에서 늙어보이기만 했던 커스틴 ...   \n",
       "\n",
       "   label         document_1  \\\n",
       "0      0                  아   \n",
       "1      1          흠...포스터보고   \n",
       "2      0  너무재밓었다그래서보는것을추천한다   \n",
       "3      0                교도소   \n",
       "4      1             사이몬페그의   \n",
       "\n",
       "                                          document_2        document_1n  \\\n",
       "0                                  더빙.. 진짜 짜증나네요 목소리                  아   \n",
       "1                            초딩영화줄....오버연기조차 가볍지 않구나          흠...포스터보고   \n",
       "2                                               None  너무재밓었다그래서보는것을추천한다   \n",
       "3                          이야기구먼 ..솔직히 재미는 없다..평점 조정                교도소   \n",
       "4  익살스런 연기가 돋보였던 영화!스파이더맨에서 늙어보이기만 했던 커스틴 던스트가 너무...             사이몬페그의   \n",
       "\n",
       "  document_2n                                        document_3n  \n",
       "0                                              더빙.. 진짜 짜증나네요 목소리  \n",
       "1                                        초딩영화줄....오버연기조차 가볍지 않구나  \n",
       "2                                                                 \n",
       "3                                      이야기구먼 ..솔직히 재미는 없다..평점 조정  \n",
       "4              익살스런 연기가 돋보였던 영화!스파이더맨에서 늙어보이기만 했던 커스틴 던스트가 너무...  "
      ]
     },
     "execution_count": 37,
     "metadata": {},
     "output_type": "execute_result"
    }
   ],
   "source": [
    "df.head()"
   ]
  },
  {
   "cell_type": "markdown",
   "id": "96da7611",
   "metadata": {},
   "source": [
    "### 영문 대소문자 바꾸기\n",
    "- lower- 소문자 변경\n",
    "- upper- 대문자 변경\n",
    "- capitailize - 앞문자 대문자로 변경\n",
    "- title - 단위별 앞문자 대문자로 변경하기\n",
    "- swapcase - 소문자는 대문자, 대문자는 소문자로 변경하기!"
   ]
  },
  {
   "cell_type": "markdown",
   "id": "f6a6214d",
   "metadata": {},
   "source": [
    "- replace 문법"
   ]
  },
  {
   "cell_type": "code",
   "execution_count": 40,
   "id": "d90c9ee4",
   "metadata": {},
   "outputs": [
    {
     "data": {
      "text/plain": [
       "0                                       아 더빙** 진짜 짜증나네요 목소리\n",
       "1                         흠***포스터보고 초딩영화줄****오버연기조차 가볍지 않구나\n",
       "2                                         너무재밓었다그래서보는것을추천한다\n",
       "3                             교도소 이야기구먼 **솔직히 재미는 없다**평점 조정\n",
       "4         사이몬페그의 익살스런 연기가 돋보였던 영화!스파이더맨에서 늙어보이기만 했던 커스틴 ...\n",
       "                                ...                        \n",
       "149995                                  인간이 문제지** 소는 뭔죄인가**\n",
       "149996                                        평점이 너무 낮아서***\n",
       "149997                      이게 뭐요? 한국인은 거들먹거리고 필리핀 혼혈은 착하다?\n",
       "149998                          청춘 영화의 최고봉*방황과 우울했던 날들의 자화상\n",
       "149999                             한국 영화 최초로 수간하는 내용이 담긴 영화\n",
       "Name: document, Length: 150000, dtype: object"
      ]
     },
     "execution_count": 40,
     "metadata": {},
     "output_type": "execute_result"
    }
   ],
   "source": [
    "df['document'].str.replace(pat='.', repl='*', regex=False)"
   ]
  },
  {
   "cell_type": "code",
   "execution_count": 41,
   "id": "2ad04d73",
   "metadata": {},
   "outputs": [
    {
     "data": {
      "text/plain": [
       "0                                         아 더빙 진짜 짜증나네요 목소리\n",
       "1                                흠포스터보고 초딩영화줄오버연기조차 가볍지 않구나\n",
       "2                                         너무재밓었다그래서보는것을추천한다\n",
       "3                                 교도소 이야기구먼 솔직히 재미는 없다평점 조정\n",
       "4         사이몬페그의 익살스런 연기가 돋보였던 영화!스파이더맨에서 늙어보이기만 했던 커스틴 ...\n",
       "                                ...                        \n",
       "149995                                      인간이 문제지 소는 뭔죄인가\n",
       "149996                                           평점이 너무 낮아서\n",
       "149997                      이게 뭐요? 한국인은 거들먹거리고 필리핀 혼혈은 착하다?\n",
       "149998                           청춘 영화의 최고봉방황과 우울했던 날들의 자화상\n",
       "149999                             한국 영화 최초로 수간하는 내용이 담긴 영화\n",
       "Name: document, Length: 150000, dtype: object"
      ]
     },
     "execution_count": 41,
     "metadata": {},
     "output_type": "execute_result"
    }
   ],
   "source": [
    "# 원하는 문자열 패턴 지우기\n",
    "df['document'].str.replace(pat='.', repl='', regex=False)"
   ]
  },
  {
   "cell_type": "markdown",
   "id": "a3ac6c45",
   "metadata": {},
   "source": [
    "- find함수"
   ]
  },
  {
   "cell_type": "code",
   "execution_count": 42,
   "id": "d604aa4a",
   "metadata": {},
   "outputs": [],
   "source": [
    "# 해당 문자가 어디에 있는지 인덱스를 반환 하는 것, -1 없는 값\n",
    "df['document_non']= df['document'].str.find(sub='.')"
   ]
  },
  {
   "cell_type": "code",
   "execution_count": 43,
   "id": "71030197",
   "metadata": {},
   "outputs": [],
   "source": [
    "# 정규표현식을 같이 이용할 경우\n",
    "df['findall_docu']=df['document'].str.findall(pat='[재미]')\n",
    "# 다양한 정규표현식을 뺄 수 있음"
   ]
  },
  {
   "cell_type": "code",
   "execution_count": 44,
   "id": "bc5cc9e4",
   "metadata": {},
   "outputs": [],
   "source": [
    "#findall 정규표현식과 응용해서 전처리가 가능\n",
    "df['findall_num']=df['document'].str.findall(pat='[0-9]+')"
   ]
  },
  {
   "cell_type": "markdown",
   "id": "07f86d1e",
   "metadata": {},
   "source": [
    "- slice\n",
    "- 특정 인덱스의 값을 잘라낸다! 반환할 수 있다.\n",
    "- slice_replace\n",
    "- 해당 사이의 인덱스값을 다른 값을 바꾼다!"
   ]
  },
  {
   "cell_type": "code",
   "execution_count": 46,
   "id": "eaa7f3f8",
   "metadata": {},
   "outputs": [
    {
     "data": {
      "text/plain": [
       "0                                          !.. 진짜 짜증나네요 목소리\n",
       "1                            !포스터보고 초딩영화줄....오버연기조차 가볍지 않구나\n",
       "2                                            !었다그래서보는것을추천한다\n",
       "3                                !이야기구먼 ..솔직히 재미는 없다..평점 조정\n",
       "4         !그의 익살스런 연기가 돋보였던 영화!스파이더맨에서 늙어보이기만 했던 커스틴 던스트...\n",
       "                                ...                        \n",
       "149995                                     !문제지.. 소는 뭔죄인가..\n",
       "149996                                           !너무 낮아서...\n",
       "149997                         !요? 한국인은 거들먹거리고 필리핀 혼혈은 착하다?\n",
       "149998                             !화의 최고봉.방황과 우울했던 날들의 자화상\n",
       "149999                                !화 최초로 수간하는 내용이 담긴 영화\n",
       "Name: document, Length: 150000, dtype: object"
      ]
     },
     "execution_count": 46,
     "metadata": {},
     "output_type": "execute_result"
    }
   ],
   "source": [
    "# 0부터 4까지의 전체 데이터를 날려서 삭제 \n",
    "df['document'].str.slice_replace(start=0, stop=4, repl='!')"
   ]
  },
  {
   "cell_type": "code",
   "execution_count": 47,
   "id": "9d141883",
   "metadata": {},
   "outputs": [],
   "source": [
    "df['document_0_5']=df['document'].str.slice(start=0, stop=5)"
   ]
  },
  {
   "cell_type": "code",
   "execution_count": 48,
   "id": "81a458d4",
   "metadata": {},
   "outputs": [
    {
     "data": {
      "text/html": [
       "<div>\n",
       "<style scoped>\n",
       "    .dataframe tbody tr th:only-of-type {\n",
       "        vertical-align: middle;\n",
       "    }\n",
       "\n",
       "    .dataframe tbody tr th {\n",
       "        vertical-align: top;\n",
       "    }\n",
       "\n",
       "    .dataframe thead th {\n",
       "        text-align: right;\n",
       "    }\n",
       "</style>\n",
       "<table border=\"1\" class=\"dataframe\">\n",
       "  <thead>\n",
       "    <tr style=\"text-align: right;\">\n",
       "      <th></th>\n",
       "      <th>Unnamed: 0</th>\n",
       "      <th>id</th>\n",
       "      <th>document</th>\n",
       "      <th>label</th>\n",
       "      <th>document_1</th>\n",
       "      <th>document_2</th>\n",
       "      <th>document_1n</th>\n",
       "      <th>document_2n</th>\n",
       "      <th>document_3n</th>\n",
       "      <th>document_non</th>\n",
       "      <th>findall_docu</th>\n",
       "      <th>findall_num</th>\n",
       "      <th>document_0_5</th>\n",
       "    </tr>\n",
       "  </thead>\n",
       "  <tbody>\n",
       "    <tr>\n",
       "      <th>0</th>\n",
       "      <td>0</td>\n",
       "      <td>9976970</td>\n",
       "      <td>아 더빙.. 진짜 짜증나네요 목소리</td>\n",
       "      <td>0</td>\n",
       "      <td>아</td>\n",
       "      <td>더빙.. 진짜 짜증나네요 목소리</td>\n",
       "      <td>아</td>\n",
       "      <td></td>\n",
       "      <td>더빙.. 진짜 짜증나네요 목소리</td>\n",
       "      <td>4.0</td>\n",
       "      <td>[]</td>\n",
       "      <td>[]</td>\n",
       "      <td>아 더빙.</td>\n",
       "    </tr>\n",
       "    <tr>\n",
       "      <th>1</th>\n",
       "      <td>1</td>\n",
       "      <td>3819312</td>\n",
       "      <td>흠...포스터보고 초딩영화줄....오버연기조차 가볍지 않구나</td>\n",
       "      <td>1</td>\n",
       "      <td>흠...포스터보고</td>\n",
       "      <td>초딩영화줄....오버연기조차 가볍지 않구나</td>\n",
       "      <td>흠...포스터보고</td>\n",
       "      <td></td>\n",
       "      <td>초딩영화줄....오버연기조차 가볍지 않구나</td>\n",
       "      <td>1.0</td>\n",
       "      <td>[]</td>\n",
       "      <td>[]</td>\n",
       "      <td>흠...포</td>\n",
       "    </tr>\n",
       "    <tr>\n",
       "      <th>2</th>\n",
       "      <td>2</td>\n",
       "      <td>10265843</td>\n",
       "      <td>너무재밓었다그래서보는것을추천한다</td>\n",
       "      <td>0</td>\n",
       "      <td>너무재밓었다그래서보는것을추천한다</td>\n",
       "      <td>None</td>\n",
       "      <td>너무재밓었다그래서보는것을추천한다</td>\n",
       "      <td></td>\n",
       "      <td></td>\n",
       "      <td>-1.0</td>\n",
       "      <td>[재]</td>\n",
       "      <td>[]</td>\n",
       "      <td>너무재밓었</td>\n",
       "    </tr>\n",
       "    <tr>\n",
       "      <th>3</th>\n",
       "      <td>3</td>\n",
       "      <td>9045019</td>\n",
       "      <td>교도소 이야기구먼 ..솔직히 재미는 없다..평점 조정</td>\n",
       "      <td>0</td>\n",
       "      <td>교도소</td>\n",
       "      <td>이야기구먼 ..솔직히 재미는 없다..평점 조정</td>\n",
       "      <td>교도소</td>\n",
       "      <td></td>\n",
       "      <td>이야기구먼 ..솔직히 재미는 없다..평점 조정</td>\n",
       "      <td>10.0</td>\n",
       "      <td>[재, 미]</td>\n",
       "      <td>[]</td>\n",
       "      <td>교도소 이</td>\n",
       "    </tr>\n",
       "    <tr>\n",
       "      <th>4</th>\n",
       "      <td>4</td>\n",
       "      <td>6483659</td>\n",
       "      <td>사이몬페그의 익살스런 연기가 돋보였던 영화!스파이더맨에서 늙어보이기만 했던 커스틴 ...</td>\n",
       "      <td>1</td>\n",
       "      <td>사이몬페그의</td>\n",
       "      <td>익살스런 연기가 돋보였던 영화!스파이더맨에서 늙어보이기만 했던 커스틴 던스트가 너무...</td>\n",
       "      <td>사이몬페그의</td>\n",
       "      <td></td>\n",
       "      <td>익살스런 연기가 돋보였던 영화!스파이더맨에서 늙어보이기만 했던 커스틴 던스트가 너무...</td>\n",
       "      <td>-1.0</td>\n",
       "      <td>[]</td>\n",
       "      <td>[]</td>\n",
       "      <td>사이몬페그</td>\n",
       "    </tr>\n",
       "  </tbody>\n",
       "</table>\n",
       "</div>"
      ],
      "text/plain": [
       "   Unnamed: 0        id                                           document  \\\n",
       "0           0   9976970                                아 더빙.. 진짜 짜증나네요 목소리   \n",
       "1           1   3819312                  흠...포스터보고 초딩영화줄....오버연기조차 가볍지 않구나   \n",
       "2           2  10265843                                  너무재밓었다그래서보는것을추천한다   \n",
       "3           3   9045019                      교도소 이야기구먼 ..솔직히 재미는 없다..평점 조정   \n",
       "4           4   6483659  사이몬페그의 익살스런 연기가 돋보였던 영화!스파이더맨에서 늙어보이기만 했던 커스틴 ...   \n",
       "\n",
       "   label         document_1  \\\n",
       "0      0                  아   \n",
       "1      1          흠...포스터보고   \n",
       "2      0  너무재밓었다그래서보는것을추천한다   \n",
       "3      0                교도소   \n",
       "4      1             사이몬페그의   \n",
       "\n",
       "                                          document_2        document_1n  \\\n",
       "0                                  더빙.. 진짜 짜증나네요 목소리                  아   \n",
       "1                            초딩영화줄....오버연기조차 가볍지 않구나          흠...포스터보고   \n",
       "2                                               None  너무재밓었다그래서보는것을추천한다   \n",
       "3                          이야기구먼 ..솔직히 재미는 없다..평점 조정                교도소   \n",
       "4  익살스런 연기가 돋보였던 영화!스파이더맨에서 늙어보이기만 했던 커스틴 던스트가 너무...             사이몬페그의   \n",
       "\n",
       "  document_2n                                        document_3n  \\\n",
       "0                                              더빙.. 진짜 짜증나네요 목소리   \n",
       "1                                        초딩영화줄....오버연기조차 가볍지 않구나   \n",
       "2                                                                  \n",
       "3                                      이야기구먼 ..솔직히 재미는 없다..평점 조정   \n",
       "4              익살스런 연기가 돋보였던 영화!스파이더맨에서 늙어보이기만 했던 커스틴 던스트가 너무...   \n",
       "\n",
       "   document_non findall_docu findall_num document_0_5  \n",
       "0           4.0           []          []        아 더빙.  \n",
       "1           1.0           []          []        흠...포  \n",
       "2          -1.0          [재]          []        너무재밓었  \n",
       "3          10.0       [재, 미]          []        교도소 이  \n",
       "4          -1.0           []          []        사이몬페그  "
      ]
     },
     "execution_count": 48,
     "metadata": {},
     "output_type": "execute_result"
    }
   ],
   "source": [
    "df.head()"
   ]
  },
  {
   "cell_type": "markdown",
   "id": "86b9f528",
   "metadata": {},
   "source": [
    "- len() 함수 이용해서도 전처리 가능"
   ]
  },
  {
   "cell_type": "code",
   "execution_count": 49,
   "id": "13ed32e5",
   "metadata": {},
   "outputs": [],
   "source": [
    "# 전체 리뷰의 대한 길이를 만들 수 있음\n",
    "df['document_len']=df['document'].str.len()"
   ]
  },
  {
   "cell_type": "code",
   "execution_count": 50,
   "id": "9df25462",
   "metadata": {},
   "outputs": [],
   "source": [
    "import matplotlib.pyplot as plt"
   ]
  },
  {
   "cell_type": "code",
   "execution_count": 51,
   "id": "7d45e0b8",
   "metadata": {},
   "outputs": [
    {
     "data": {
      "text/plain": [
       "(array([36766., 46098., 33551., 12015.,  6098.,  3990.,  3136.,  2231.,\n",
       "         2361.,  3749.]),\n",
       " array([  1. ,  15.5,  30. ,  44.5,  59. ,  73.5,  88. , 102.5, 117. ,\n",
       "        131.5, 146. ]),\n",
       " <BarContainer object of 10 artists>)"
      ]
     },
     "execution_count": 51,
     "metadata": {},
     "output_type": "execute_result"
    },
    {
     "data": {
      "image/png": "[encoded data removed]",
      "text/plain": [
       "<Figure size 640x480 with 1 Axes>"
      ]
     },
     "metadata": {},
     "output_type": "display_data"
    }
   ],
   "source": [
    "# 어떤식의 분포를 이루는지 전체 리뷰의 길이를 알 수 있음\n",
    "plt.hist(df['document_len'])"
   ]
  },
  {
   "cell_type": "code",
   "execution_count": 52,
   "id": "e49d1a0d",
   "metadata": {
    "scrolled": true
   },
   "outputs": [
    {
     "data": {
      "text/plain": [
       "0    75173\n",
       "1    74827\n",
       "Name: label, dtype: int64"
      ]
     },
     "execution_count": 52,
     "metadata": {},
     "output_type": "execute_result"
    }
   ],
   "source": [
    "# 긍부정 컬럼이 있음\n",
    "df['label'].value_counts()"
   ]
  },
  {
   "cell_type": "code",
   "execution_count": 53,
   "id": "4f9c4cb9",
   "metadata": {},
   "outputs": [
    {
     "data": {
      "text/html": [
       "<div>\n",
       "<style scoped>\n",
       "    .dataframe tbody tr th:only-of-type {\n",
       "        vertical-align: middle;\n",
       "    }\n",
       "\n",
       "    .dataframe tbody tr th {\n",
       "        vertical-align: top;\n",
       "    }\n",
       "\n",
       "    .dataframe thead th {\n",
       "        text-align: right;\n",
       "    }\n",
       "</style>\n",
       "<table border=\"1\" class=\"dataframe\">\n",
       "  <thead>\n",
       "    <tr style=\"text-align: right;\">\n",
       "      <th></th>\n",
       "      <th>Unnamed: 0</th>\n",
       "      <th>id</th>\n",
       "      <th>document</th>\n",
       "      <th>label</th>\n",
       "      <th>document_1</th>\n",
       "      <th>document_2</th>\n",
       "      <th>document_1n</th>\n",
       "      <th>document_2n</th>\n",
       "      <th>document_3n</th>\n",
       "      <th>document_non</th>\n",
       "      <th>findall_docu</th>\n",
       "      <th>findall_num</th>\n",
       "      <th>document_0_5</th>\n",
       "      <th>document_len</th>\n",
       "    </tr>\n",
       "  </thead>\n",
       "  <tbody>\n",
       "    <tr>\n",
       "      <th>0</th>\n",
       "      <td>0</td>\n",
       "      <td>9976970</td>\n",
       "      <td>아 더빙.. 진짜 짜증나네요 목소리</td>\n",
       "      <td>0</td>\n",
       "      <td>아</td>\n",
       "      <td>더빙.. 진짜 짜증나네요 목소리</td>\n",
       "      <td>아</td>\n",
       "      <td></td>\n",
       "      <td>더빙.. 진짜 짜증나네요 목소리</td>\n",
       "      <td>4.0</td>\n",
       "      <td>[]</td>\n",
       "      <td>[]</td>\n",
       "      <td>아 더빙.</td>\n",
       "      <td>19.0</td>\n",
       "    </tr>\n",
       "    <tr>\n",
       "      <th>1</th>\n",
       "      <td>1</td>\n",
       "      <td>3819312</td>\n",
       "      <td>흠...포스터보고 초딩영화줄....오버연기조차 가볍지 않구나</td>\n",
       "      <td>1</td>\n",
       "      <td>흠...포스터보고</td>\n",
       "      <td>초딩영화줄....오버연기조차 가볍지 않구나</td>\n",
       "      <td>흠...포스터보고</td>\n",
       "      <td></td>\n",
       "      <td>초딩영화줄....오버연기조차 가볍지 않구나</td>\n",
       "      <td>1.0</td>\n",
       "      <td>[]</td>\n",
       "      <td>[]</td>\n",
       "      <td>흠...포</td>\n",
       "      <td>33.0</td>\n",
       "    </tr>\n",
       "    <tr>\n",
       "      <th>2</th>\n",
       "      <td>2</td>\n",
       "      <td>10265843</td>\n",
       "      <td>너무재밓었다그래서보는것을추천한다</td>\n",
       "      <td>0</td>\n",
       "      <td>너무재밓었다그래서보는것을추천한다</td>\n",
       "      <td>None</td>\n",
       "      <td>너무재밓었다그래서보는것을추천한다</td>\n",
       "      <td></td>\n",
       "      <td></td>\n",
       "      <td>-1.0</td>\n",
       "      <td>[재]</td>\n",
       "      <td>[]</td>\n",
       "      <td>너무재밓었</td>\n",
       "      <td>17.0</td>\n",
       "    </tr>\n",
       "    <tr>\n",
       "      <th>3</th>\n",
       "      <td>3</td>\n",
       "      <td>9045019</td>\n",
       "      <td>교도소 이야기구먼 ..솔직히 재미는 없다..평점 조정</td>\n",
       "      <td>0</td>\n",
       "      <td>교도소</td>\n",
       "      <td>이야기구먼 ..솔직히 재미는 없다..평점 조정</td>\n",
       "      <td>교도소</td>\n",
       "      <td></td>\n",
       "      <td>이야기구먼 ..솔직히 재미는 없다..평점 조정</td>\n",
       "      <td>10.0</td>\n",
       "      <td>[재, 미]</td>\n",
       "      <td>[]</td>\n",
       "      <td>교도소 이</td>\n",
       "      <td>29.0</td>\n",
       "    </tr>\n",
       "    <tr>\n",
       "      <th>4</th>\n",
       "      <td>4</td>\n",
       "      <td>6483659</td>\n",
       "      <td>사이몬페그의 익살스런 연기가 돋보였던 영화!스파이더맨에서 늙어보이기만 했던 커스틴 ...</td>\n",
       "      <td>1</td>\n",
       "      <td>사이몬페그의</td>\n",
       "      <td>익살스런 연기가 돋보였던 영화!스파이더맨에서 늙어보이기만 했던 커스틴 던스트가 너무...</td>\n",
       "      <td>사이몬페그의</td>\n",
       "      <td></td>\n",
       "      <td>익살스런 연기가 돋보였던 영화!스파이더맨에서 늙어보이기만 했던 커스틴 던스트가 너무...</td>\n",
       "      <td>-1.0</td>\n",
       "      <td>[]</td>\n",
       "      <td>[]</td>\n",
       "      <td>사이몬페그</td>\n",
       "      <td>61.0</td>\n",
       "    </tr>\n",
       "  </tbody>\n",
       "</table>\n",
       "</div>"
      ],
      "text/plain": [
       "   Unnamed: 0        id                                           document  \\\n",
       "0           0   9976970                                아 더빙.. 진짜 짜증나네요 목소리   \n",
       "1           1   3819312                  흠...포스터보고 초딩영화줄....오버연기조차 가볍지 않구나   \n",
       "2           2  10265843                                  너무재밓었다그래서보는것을추천한다   \n",
       "3           3   9045019                      교도소 이야기구먼 ..솔직히 재미는 없다..평점 조정   \n",
       "4           4   6483659  사이몬페그의 익살스런 연기가 돋보였던 영화!스파이더맨에서 늙어보이기만 했던 커스틴 ...   \n",
       "\n",
       "   label         document_1  \\\n",
       "0      0                  아   \n",
       "1      1          흠...포스터보고   \n",
       "2      0  너무재밓었다그래서보는것을추천한다   \n",
       "3      0                교도소   \n",
       "4      1             사이몬페그의   \n",
       "\n",
       "                                          document_2        document_1n  \\\n",
       "0                                  더빙.. 진짜 짜증나네요 목소리                  아   \n",
       "1                            초딩영화줄....오버연기조차 가볍지 않구나          흠...포스터보고   \n",
       "2                                               None  너무재밓었다그래서보는것을추천한다   \n",
       "3                          이야기구먼 ..솔직히 재미는 없다..평점 조정                교도소   \n",
       "4  익살스런 연기가 돋보였던 영화!스파이더맨에서 늙어보이기만 했던 커스틴 던스트가 너무...             사이몬페그의   \n",
       "\n",
       "  document_2n                                        document_3n  \\\n",
       "0                                              더빙.. 진짜 짜증나네요 목소리   \n",
       "1                                        초딩영화줄....오버연기조차 가볍지 않구나   \n",
       "2                                                                  \n",
       "3                                      이야기구먼 ..솔직히 재미는 없다..평점 조정   \n",
       "4              익살스런 연기가 돋보였던 영화!스파이더맨에서 늙어보이기만 했던 커스틴 던스트가 너무...   \n",
       "\n",
       "   document_non findall_docu findall_num document_0_5  document_len  \n",
       "0           4.0           []          []        아 더빙.          19.0  \n",
       "1           1.0           []          []        흠...포          33.0  \n",
       "2          -1.0          [재]          []        너무재밓었          17.0  \n",
       "3          10.0       [재, 미]          []        교도소 이          29.0  \n",
       "4          -1.0           []          []        사이몬페그          61.0  "
      ]
     },
     "execution_count": 53,
     "metadata": {},
     "output_type": "execute_result"
    }
   ],
   "source": [
    "df.head()"
   ]
  },
  {
   "cell_type": "code",
   "execution_count": null,
   "id": "d5ed42a1",
   "metadata": {},
   "outputs": [],
   "source": []
  }
 ],
 "metadata": {
  "kernelspec": {
   "display_name": "Python 3 (ipykernel)",
   "language": "python",
   "name": "python3"
  },
  "language_info": {
   "codemirror_mode": {
    "name": "ipython",
    "version": 3
   },
   "file_extension": ".py",
   "mimetype": "text/x-python",
   "name": "python",
   "nbconvert_exporter": "python",
   "pygments_lexer": "ipython3",
   "version": "3.11.4"
  }
 },
 "nbformat": 4,
 "nbformat_minor": 5
}
