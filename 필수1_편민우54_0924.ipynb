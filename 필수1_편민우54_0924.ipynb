{
 "cells": [
  {
   "cell_type": "markdown",
   "id": "3392287b",
   "metadata": {},
   "source": [
    "## 필수과제 1\n",
    "1. simpleimputer (간단한 개념이라 리서치하시고 실제 코드 작성하시고 값에 대해서 결과 정리까지)\n",
    "- 다양하게 통계치 지정할 수 있음 (평균, 최빈값 등등)\n",
    "- 결과가 어떤식으로 바뀌는지 mpg 데이터를 가지고 확인"
   ]
  },
  {
   "cell_type": "markdown",
   "id": "a3463851",
   "metadata": {},
   "source": [
    "#### simpleimputer\n",
    "- scikit-learn에서 제공\n",
    "- 데이터 셋의 결측치값(missing value)를 특정한 값으로 채우는 기능"
   ]
  },
  {
   "cell_type": "code",
   "execution_count": 2,
   "id": "4b647c22",
   "metadata": {},
   "outputs": [],
   "source": [
    "from sklearn.impute import SimpleImputer # simpleimputer impute함\n",
    "import pandas as pd\n",
    "import numpy as np\n",
    "import seaborn as sns\n",
    "import random\n",
    "df = sns.load_dataset('mpg')"
   ]
  },
  {
   "cell_type": "code",
   "execution_count": 3,
   "id": "756d0874",
   "metadata": {
    "scrolled": true
   },
   "outputs": [
    {
     "data": {
      "text/html": [
       "<div>\n",
       "<style scoped>\n",
       "    .dataframe tbody tr th:only-of-type {\n",
       "        vertical-align: middle;\n",
       "    }\n",
       "\n",
       "    .dataframe tbody tr th {\n",
       "        vertical-align: top;\n",
       "    }\n",
       "\n",
       "    .dataframe thead th {\n",
       "        text-align: right;\n",
       "    }\n",
       "</style>\n",
       "<table border=\"1\" class=\"dataframe\">\n",
       "  <thead>\n",
       "    <tr style=\"text-align: right;\">\n",
       "      <th></th>\n",
       "      <th>mpg</th>\n",
       "      <th>cylinders</th>\n",
       "      <th>displacement</th>\n",
       "      <th>horsepower</th>\n",
       "      <th>weight</th>\n",
       "      <th>acceleration</th>\n",
       "      <th>model_year</th>\n",
       "      <th>origin</th>\n",
       "      <th>name</th>\n",
       "    </tr>\n",
       "  </thead>\n",
       "  <tbody>\n",
       "    <tr>\n",
       "      <th>0</th>\n",
       "      <td>18.0</td>\n",
       "      <td>8</td>\n",
       "      <td>307.0</td>\n",
       "      <td>130.0</td>\n",
       "      <td>3504</td>\n",
       "      <td>12.0</td>\n",
       "      <td>70</td>\n",
       "      <td>usa</td>\n",
       "      <td>chevrolet chevelle malibu</td>\n",
       "    </tr>\n",
       "    <tr>\n",
       "      <th>1</th>\n",
       "      <td>15.0</td>\n",
       "      <td>8</td>\n",
       "      <td>350.0</td>\n",
       "      <td>165.0</td>\n",
       "      <td>3693</td>\n",
       "      <td>11.5</td>\n",
       "      <td>70</td>\n",
       "      <td>usa</td>\n",
       "      <td>buick skylark 320</td>\n",
       "    </tr>\n",
       "    <tr>\n",
       "      <th>2</th>\n",
       "      <td>18.0</td>\n",
       "      <td>8</td>\n",
       "      <td>318.0</td>\n",
       "      <td>150.0</td>\n",
       "      <td>3436</td>\n",
       "      <td>11.0</td>\n",
       "      <td>70</td>\n",
       "      <td>usa</td>\n",
       "      <td>plymouth satellite</td>\n",
       "    </tr>\n",
       "    <tr>\n",
       "      <th>3</th>\n",
       "      <td>16.0</td>\n",
       "      <td>8</td>\n",
       "      <td>304.0</td>\n",
       "      <td>150.0</td>\n",
       "      <td>3433</td>\n",
       "      <td>12.0</td>\n",
       "      <td>70</td>\n",
       "      <td>usa</td>\n",
       "      <td>amc rebel sst</td>\n",
       "    </tr>\n",
       "    <tr>\n",
       "      <th>4</th>\n",
       "      <td>17.0</td>\n",
       "      <td>8</td>\n",
       "      <td>302.0</td>\n",
       "      <td>140.0</td>\n",
       "      <td>3449</td>\n",
       "      <td>10.5</td>\n",
       "      <td>70</td>\n",
       "      <td>usa</td>\n",
       "      <td>ford torino</td>\n",
       "    </tr>\n",
       "  </tbody>\n",
       "</table>\n",
       "</div>"
      ],
      "text/plain": [
       "    mpg  cylinders  displacement  horsepower  weight  acceleration  \\\n",
       "0  18.0          8         307.0       130.0    3504          12.0   \n",
       "1  15.0          8         350.0       165.0    3693          11.5   \n",
       "2  18.0          8         318.0       150.0    3436          11.0   \n",
       "3  16.0          8         304.0       150.0    3433          12.0   \n",
       "4  17.0          8         302.0       140.0    3449          10.5   \n",
       "\n",
       "   model_year origin                       name  \n",
       "0          70    usa  chevrolet chevelle malibu  \n",
       "1          70    usa          buick skylark 320  \n",
       "2          70    usa         plymouth satellite  \n",
       "3          70    usa              amc rebel sst  \n",
       "4          70    usa                ford torino  "
      ]
     },
     "execution_count": 3,
     "metadata": {},
     "output_type": "execute_result"
    }
   ],
   "source": [
    "df.head() # 상위 데이터 5개 출력"
   ]
  },
  {
   "cell_type": "code",
   "execution_count": 4,
   "id": "ad1fd13e",
   "metadata": {
    "scrolled": true
   },
   "outputs": [
    {
     "data": {
      "text/plain": [
       "mpg             0\n",
       "cylinders       0\n",
       "displacement    0\n",
       "horsepower      6\n",
       "weight          0\n",
       "acceleration    0\n",
       "model_year      0\n",
       "origin          0\n",
       "name            0\n",
       "dtype: int64"
      ]
     },
     "execution_count": 4,
     "metadata": {},
     "output_type": "execute_result"
    }
   ],
   "source": [
    "# 결측치 개수 확인\n",
    "df.isna().sum()"
   ]
  },
  {
   "cell_type": "code",
   "execution_count": 28,
   "id": "a59640a1",
   "metadata": {},
   "outputs": [],
   "source": [
    "df_sp = df[['weight','mpg','model_year','horsepower']]"
   ]
  },
  {
   "cell_type": "code",
   "execution_count": 29,
   "id": "a6f63f4c",
   "metadata": {
    "scrolled": true
   },
   "outputs": [
    {
     "name": "stdout",
     "output_type": "stream",
     "text": [
      "<class 'pandas.core.frame.DataFrame'>\n",
      "RangeIndex: 398 entries, 0 to 397\n",
      "Data columns (total 4 columns):\n",
      " #   Column      Non-Null Count  Dtype  \n",
      "---  ------      --------------  -----  \n",
      " 0   weight      398 non-null    int64  \n",
      " 1   mpg         398 non-null    float64\n",
      " 2   model_year  398 non-null    int64  \n",
      " 3   horsepower  392 non-null    float64\n",
      "dtypes: float64(2), int64(2)\n",
      "memory usage: 12.6 KB\n"
     ]
    }
   ],
   "source": [
    "df_sp.info()"
   ]
  },
  {
   "cell_type": "code",
   "execution_count": 30,
   "id": "0cdec89a",
   "metadata": {
    "scrolled": true
   },
   "outputs": [
    {
     "data": {
      "text/html": [
       "<div>\n",
       "<style scoped>\n",
       "    .dataframe tbody tr th:only-of-type {\n",
       "        vertical-align: middle;\n",
       "    }\n",
       "\n",
       "    .dataframe tbody tr th {\n",
       "        vertical-align: top;\n",
       "    }\n",
       "\n",
       "    .dataframe thead th {\n",
       "        text-align: right;\n",
       "    }\n",
       "</style>\n",
       "<table border=\"1\" class=\"dataframe\">\n",
       "  <thead>\n",
       "    <tr style=\"text-align: right;\">\n",
       "      <th></th>\n",
       "      <th>weight</th>\n",
       "      <th>mpg</th>\n",
       "      <th>model_year</th>\n",
       "      <th>horsepower</th>\n",
       "    </tr>\n",
       "  </thead>\n",
       "  <tbody>\n",
       "    <tr>\n",
       "      <th>0</th>\n",
       "      <td>False</td>\n",
       "      <td>False</td>\n",
       "      <td>False</td>\n",
       "      <td>False</td>\n",
       "    </tr>\n",
       "    <tr>\n",
       "      <th>1</th>\n",
       "      <td>False</td>\n",
       "      <td>False</td>\n",
       "      <td>False</td>\n",
       "      <td>False</td>\n",
       "    </tr>\n",
       "    <tr>\n",
       "      <th>2</th>\n",
       "      <td>False</td>\n",
       "      <td>False</td>\n",
       "      <td>False</td>\n",
       "      <td>False</td>\n",
       "    </tr>\n",
       "    <tr>\n",
       "      <th>3</th>\n",
       "      <td>False</td>\n",
       "      <td>False</td>\n",
       "      <td>False</td>\n",
       "      <td>False</td>\n",
       "    </tr>\n",
       "    <tr>\n",
       "      <th>4</th>\n",
       "      <td>False</td>\n",
       "      <td>False</td>\n",
       "      <td>False</td>\n",
       "      <td>False</td>\n",
       "    </tr>\n",
       "    <tr>\n",
       "      <th>...</th>\n",
       "      <td>...</td>\n",
       "      <td>...</td>\n",
       "      <td>...</td>\n",
       "      <td>...</td>\n",
       "    </tr>\n",
       "    <tr>\n",
       "      <th>393</th>\n",
       "      <td>False</td>\n",
       "      <td>False</td>\n",
       "      <td>False</td>\n",
       "      <td>False</td>\n",
       "    </tr>\n",
       "    <tr>\n",
       "      <th>394</th>\n",
       "      <td>False</td>\n",
       "      <td>False</td>\n",
       "      <td>False</td>\n",
       "      <td>False</td>\n",
       "    </tr>\n",
       "    <tr>\n",
       "      <th>395</th>\n",
       "      <td>False</td>\n",
       "      <td>False</td>\n",
       "      <td>False</td>\n",
       "      <td>False</td>\n",
       "    </tr>\n",
       "    <tr>\n",
       "      <th>396</th>\n",
       "      <td>False</td>\n",
       "      <td>False</td>\n",
       "      <td>False</td>\n",
       "      <td>False</td>\n",
       "    </tr>\n",
       "    <tr>\n",
       "      <th>397</th>\n",
       "      <td>False</td>\n",
       "      <td>False</td>\n",
       "      <td>False</td>\n",
       "      <td>False</td>\n",
       "    </tr>\n",
       "  </tbody>\n",
       "</table>\n",
       "<p>398 rows × 4 columns</p>\n",
       "</div>"
      ],
      "text/plain": [
       "     weight    mpg  model_year  horsepower\n",
       "0     False  False       False       False\n",
       "1     False  False       False       False\n",
       "2     False  False       False       False\n",
       "3     False  False       False       False\n",
       "4     False  False       False       False\n",
       "..      ...    ...         ...         ...\n",
       "393   False  False       False       False\n",
       "394   False  False       False       False\n",
       "395   False  False       False       False\n",
       "396   False  False       False       False\n",
       "397   False  False       False       False\n",
       "\n",
       "[398 rows x 4 columns]"
      ]
     },
     "execution_count": 30,
     "metadata": {},
     "output_type": "execute_result"
    }
   ],
   "source": [
    "df_sp.isna()"
   ]
  },
  {
   "cell_type": "markdown",
   "id": "23d19c41",
   "metadata": {},
   "source": [
    "### strategy\n",
    "- mean (평균값)\n",
    "- median (중앙값)\n",
    "- most_frequent (최빈값)"
   ]
  },
  {
   "cell_type": "code",
   "execution_count": 8,
   "id": "6e40f46c",
   "metadata": {
    "scrolled": true
   },
   "outputs": [
    {
     "name": "stdout",
     "output_type": "stream",
     "text": [
      "[[3504.   18.   70.  130.]\n",
      " [3693.   15.   70.  165.]\n",
      " [3436.   18.   70.  150.]\n",
      " ...\n",
      " [2295.   32.   82.   84.]\n",
      " [2625.   28.   82.   79.]\n",
      " [2720.   31.   82.   82.]]\n"
     ]
    }
   ],
   "source": [
    "# 평균값\n",
    "pm=SimpleImputer(missing_values=np.nan, strategy='mean')\n",
    "mean_pm = pm.fit_transform(df_sp)\n",
    "print(mean_pm)\n",
    "# fit_transform -> fit과 transform을 한번에 실행"
   ]
  },
  {
   "cell_type": "code",
   "execution_count": 9,
   "id": "bce4c46c",
   "metadata": {
    "scrolled": true
   },
   "outputs": [
    {
     "name": "stdout",
     "output_type": "stream",
     "text": [
      "     weight   mpg  model_year  horsepower\n",
      "0    3504.0  18.0        70.0       130.0\n",
      "1    3693.0  15.0        70.0       165.0\n",
      "2    3436.0  18.0        70.0       150.0\n",
      "3    3433.0  16.0        70.0       150.0\n",
      "4    3449.0  17.0        70.0       140.0\n",
      "..      ...   ...         ...         ...\n",
      "393  2790.0  27.0        82.0        86.0\n",
      "394  2130.0  44.0        82.0        52.0\n",
      "395  2295.0  32.0        82.0        84.0\n",
      "396  2625.0  28.0        82.0        79.0\n",
      "397  2720.0  31.0        82.0        82.0\n",
      "\n",
      "[398 rows x 4 columns]\n"
     ]
    }
   ],
   "source": [
    "mean_pm = pd.DataFrame(mean_pm)\n",
    "mean_pm.columns = ['weight','mpg','model_year','horsepower']\n",
    "print(mean_pm)"
   ]
  },
  {
   "cell_type": "code",
   "execution_count": 10,
   "id": "e369529a",
   "metadata": {
    "scrolled": true
   },
   "outputs": [
    {
     "data": {
      "text/plain": [
       "76.01005025125629"
      ]
     },
     "execution_count": 10,
     "metadata": {},
     "output_type": "execute_result"
    }
   ],
   "source": [
    "mean_pm.model_year.mean(0)"
   ]
  },
  {
   "cell_type": "code",
   "execution_count": 11,
   "id": "84b0cbe4",
   "metadata": {},
   "outputs": [
    {
     "name": "stdout",
     "output_type": "stream",
     "text": [
      "[[3504.   18.   70.  130.]\n",
      " [3693.   15.   70.  165.]\n",
      " [3436.   18.   70.  150.]\n",
      " ...\n",
      " [2295.   32.   82.   84.]\n",
      " [2625.   28.   82.   79.]\n",
      " [2720.   31.   82.   82.]]\n"
     ]
    }
   ],
   "source": [
    "# 중간값\n",
    "pm = SimpleImputer(missing_values=np.nan, strategy='median')\n",
    "medi_pm = pm.fit_transform(df_sp)\n",
    "print(medi_pm)"
   ]
  },
  {
   "cell_type": "code",
   "execution_count": 12,
   "id": "5ba4258e",
   "metadata": {
    "scrolled": true
   },
   "outputs": [
    {
     "name": "stdout",
     "output_type": "stream",
     "text": [
      "     weight   mpg  model_year  horsepower\n",
      "0    3504.0  18.0        70.0       130.0\n",
      "1    3693.0  15.0        70.0       165.0\n",
      "2    3436.0  18.0        70.0       150.0\n",
      "3    3433.0  16.0        70.0       150.0\n",
      "4    3449.0  17.0        70.0       140.0\n",
      "..      ...   ...         ...         ...\n",
      "393  2790.0  27.0        82.0        86.0\n",
      "394  2130.0  44.0        82.0        52.0\n",
      "395  2295.0  32.0        82.0        84.0\n",
      "396  2625.0  28.0        82.0        79.0\n",
      "397  2720.0  31.0        82.0        82.0\n",
      "\n",
      "[398 rows x 4 columns]\n"
     ]
    }
   ],
   "source": [
    "medi_pm = pd.DataFrame(medi_pm)\n",
    "medi_pm.columns = ['weight','mpg','model_year','horsepower']\n",
    "print(medi_pm)"
   ]
  },
  {
   "cell_type": "code",
   "execution_count": 13,
   "id": "92d9b76f",
   "metadata": {},
   "outputs": [
    {
     "data": {
      "text/plain": [
       "76.01005025125629"
      ]
     },
     "execution_count": 13,
     "metadata": {},
     "output_type": "execute_result"
    }
   ],
   "source": [
    "medi_pm.model_year.mean()"
   ]
  },
  {
   "cell_type": "code",
   "execution_count": 14,
   "id": "19ce3c10",
   "metadata": {
    "scrolled": true
   },
   "outputs": [
    {
     "name": "stdout",
     "output_type": "stream",
     "text": [
      "[[3504.   18.   70.  130.]\n",
      " [3693.   15.   70.  165.]\n",
      " [3436.   18.   70.  150.]\n",
      " ...\n",
      " [2295.   32.   82.   84.]\n",
      " [2625.   28.   82.   79.]\n",
      " [2720.   31.   82.   82.]]\n"
     ]
    }
   ],
   "source": [
    "# 최빈값\n",
    "pm=SimpleImputer(missing_values=np.nan, strategy='most_frequent')\n",
    "fre_pm = pm.fit_transform(df_sp)\n",
    "print(fre_pm)"
   ]
  },
  {
   "cell_type": "code",
   "execution_count": 15,
   "id": "fefaaeb9",
   "metadata": {
    "scrolled": false
   },
   "outputs": [
    {
     "name": "stdout",
     "output_type": "stream",
     "text": [
      "     weight   mpg  model_year  horsepower\n",
      "0    3504.0  18.0        70.0       130.0\n",
      "1    3693.0  15.0        70.0       165.0\n",
      "2    3436.0  18.0        70.0       150.0\n",
      "3    3433.0  16.0        70.0       150.0\n",
      "4    3449.0  17.0        70.0       140.0\n",
      "..      ...   ...         ...         ...\n",
      "393  2790.0  27.0        82.0        86.0\n",
      "394  2130.0  44.0        82.0        52.0\n",
      "395  2295.0  32.0        82.0        84.0\n",
      "396  2625.0  28.0        82.0        79.0\n",
      "397  2720.0  31.0        82.0        82.0\n",
      "\n",
      "[398 rows x 4 columns]\n"
     ]
    }
   ],
   "source": [
    "fre_pm = pd.DataFrame(fre_pm)\n",
    "fre_pm.columns = ['weight','mpg','model_year','horsepower']\n",
    "print(fre_pm)"
   ]
  },
  {
   "cell_type": "code",
   "execution_count": 16,
   "id": "c30e9d45",
   "metadata": {},
   "outputs": [
    {
     "data": {
      "text/plain": [
       "76.01005025125629"
      ]
     },
     "execution_count": 16,
     "metadata": {},
     "output_type": "execute_result"
    }
   ],
   "source": [
    "fre_pm.model_year.mean()"
   ]
  },
  {
   "cell_type": "code",
   "execution_count": 31,
   "id": "42630ba0",
   "metadata": {},
   "outputs": [],
   "source": [
    "x=np.random.randint(0,389,size=30)\n",
    "df_sp.iloc[x] = np.nan"
   ]
  },
  {
   "cell_type": "code",
   "execution_count": 32,
   "id": "279e2442",
   "metadata": {},
   "outputs": [],
   "source": [
    "df_simpleimputer = pd.concat([df_sp ,df['mpg']],axis=1) # 결측치 만들고 y값과 붙이기 "
   ]
  },
  {
   "cell_type": "code",
   "execution_count": 33,
   "id": "d58839de",
   "metadata": {},
   "outputs": [
    {
     "data": {
      "text/plain": [
       "array([[3504.,   18.,   70.,  130.,   18.],\n",
       "       [3693.,   15.,   70.,  165.,   15.],\n",
       "       [3436.,   18.,   70.,  150.,   18.],\n",
       "       ...,\n",
       "       [2295.,   32.,   82.,   84.,   32.],\n",
       "       [2625.,   28.,   82.,   79.,   28.],\n",
       "       [2720.,   31.,   82.,   82.,   31.]])"
      ]
     },
     "execution_count": 33,
     "metadata": {},
     "output_type": "execute_result"
    }
   ],
   "source": [
    "df_mean =pd.concat([df_sp ,df['mpg']],axis=1)\n",
    "imp_mean = SimpleImputer(missing_values=np.nan, strategy='mean')\n",
    "df_mean = imp_mean.fit_transform(df_mean)\n",
    "df_mean"
   ]
  },
  {
   "cell_type": "code",
   "execution_count": 34,
   "id": "35281899",
   "metadata": {},
   "outputs": [
    {
     "data": {
      "text/html": [
       "<div>\n",
       "<style scoped>\n",
       "    .dataframe tbody tr th:only-of-type {\n",
       "        vertical-align: middle;\n",
       "    }\n",
       "\n",
       "    .dataframe tbody tr th {\n",
       "        vertical-align: top;\n",
       "    }\n",
       "\n",
       "    .dataframe thead th {\n",
       "        text-align: right;\n",
       "    }\n",
       "</style>\n",
       "<table border=\"1\" class=\"dataframe\">\n",
       "  <thead>\n",
       "    <tr style=\"text-align: right;\">\n",
       "      <th></th>\n",
       "      <th>weight</th>\n",
       "      <th>mpg</th>\n",
       "      <th>model_year</th>\n",
       "      <th>horsepower</th>\n",
       "      <th>displacement</th>\n",
       "    </tr>\n",
       "  </thead>\n",
       "  <tbody>\n",
       "    <tr>\n",
       "      <th>0</th>\n",
       "      <td>3504.0</td>\n",
       "      <td>18.0</td>\n",
       "      <td>70.0</td>\n",
       "      <td>130.0</td>\n",
       "      <td>18.0</td>\n",
       "    </tr>\n",
       "    <tr>\n",
       "      <th>1</th>\n",
       "      <td>3693.0</td>\n",
       "      <td>15.0</td>\n",
       "      <td>70.0</td>\n",
       "      <td>165.0</td>\n",
       "      <td>15.0</td>\n",
       "    </tr>\n",
       "    <tr>\n",
       "      <th>2</th>\n",
       "      <td>3436.0</td>\n",
       "      <td>18.0</td>\n",
       "      <td>70.0</td>\n",
       "      <td>150.0</td>\n",
       "      <td>18.0</td>\n",
       "    </tr>\n",
       "    <tr>\n",
       "      <th>3</th>\n",
       "      <td>3433.0</td>\n",
       "      <td>16.0</td>\n",
       "      <td>70.0</td>\n",
       "      <td>150.0</td>\n",
       "      <td>16.0</td>\n",
       "    </tr>\n",
       "    <tr>\n",
       "      <th>4</th>\n",
       "      <td>3449.0</td>\n",
       "      <td>17.0</td>\n",
       "      <td>70.0</td>\n",
       "      <td>140.0</td>\n",
       "      <td>17.0</td>\n",
       "    </tr>\n",
       "    <tr>\n",
       "      <th>...</th>\n",
       "      <td>...</td>\n",
       "      <td>...</td>\n",
       "      <td>...</td>\n",
       "      <td>...</td>\n",
       "      <td>...</td>\n",
       "    </tr>\n",
       "    <tr>\n",
       "      <th>393</th>\n",
       "      <td>2790.0</td>\n",
       "      <td>27.0</td>\n",
       "      <td>82.0</td>\n",
       "      <td>86.0</td>\n",
       "      <td>27.0</td>\n",
       "    </tr>\n",
       "    <tr>\n",
       "      <th>394</th>\n",
       "      <td>2130.0</td>\n",
       "      <td>44.0</td>\n",
       "      <td>82.0</td>\n",
       "      <td>52.0</td>\n",
       "      <td>44.0</td>\n",
       "    </tr>\n",
       "    <tr>\n",
       "      <th>395</th>\n",
       "      <td>2295.0</td>\n",
       "      <td>32.0</td>\n",
       "      <td>82.0</td>\n",
       "      <td>84.0</td>\n",
       "      <td>32.0</td>\n",
       "    </tr>\n",
       "    <tr>\n",
       "      <th>396</th>\n",
       "      <td>2625.0</td>\n",
       "      <td>28.0</td>\n",
       "      <td>82.0</td>\n",
       "      <td>79.0</td>\n",
       "      <td>28.0</td>\n",
       "    </tr>\n",
       "    <tr>\n",
       "      <th>397</th>\n",
       "      <td>2720.0</td>\n",
       "      <td>31.0</td>\n",
       "      <td>82.0</td>\n",
       "      <td>82.0</td>\n",
       "      <td>31.0</td>\n",
       "    </tr>\n",
       "  </tbody>\n",
       "</table>\n",
       "<p>398 rows × 5 columns</p>\n",
       "</div>"
      ],
      "text/plain": [
       "     weight   mpg  model_year  horsepower  displacement\n",
       "0    3504.0  18.0        70.0       130.0          18.0\n",
       "1    3693.0  15.0        70.0       165.0          15.0\n",
       "2    3436.0  18.0        70.0       150.0          18.0\n",
       "3    3433.0  16.0        70.0       150.0          16.0\n",
       "4    3449.0  17.0        70.0       140.0          17.0\n",
       "..      ...   ...         ...         ...           ...\n",
       "393  2790.0  27.0        82.0        86.0          27.0\n",
       "394  2130.0  44.0        82.0        52.0          44.0\n",
       "395  2295.0  32.0        82.0        84.0          32.0\n",
       "396  2625.0  28.0        82.0        79.0          28.0\n",
       "397  2720.0  31.0        82.0        82.0          31.0\n",
       "\n",
       "[398 rows x 5 columns]"
      ]
     },
     "execution_count": 34,
     "metadata": {},
     "output_type": "execute_result"
    }
   ],
   "source": [
    "df_mean=pd.DataFrame(df_mean)\n",
    "df_mean.columns = ['weight','mpg','model_year','horsepower','displacement']\n",
    "df_mean"
   ]
  },
  {
   "cell_type": "code",
   "execution_count": 35,
   "id": "8ffd4f39",
   "metadata": {},
   "outputs": [
    {
     "data": {
      "image/png": "[encoded data removed]",
      "text/plain": [
       "<Figure size 640x480 with 1 Axes>"
      ]
     },
     "metadata": {},
     "output_type": "display_data"
    }
   ],
   "source": [
    "from sklearn.model_selection import train_test_split\n",
    "\n",
    "x_train, x_test, y_train, y_test = train_test_split(df_mean.drop('mpg',axis=1), df_mean['mpg'],test_size=0.3, random_state=111)\n",
    "\n",
    "import statsmodels.api as sm #회귀 분석 모듈\n",
    "import matplotlib.pyplot as plt # 시각화 모듈\n",
    "\n",
    "fit_train1 = sm.OLS(y_train, x_train) # 회귀분석 진행하기 (다중회귀)\n",
    "fit_train1 = fit_train1.fit() # 회귀분석 Fit 모델\n",
    "\n",
    "plt.plot(np.array(fit_train1.predict(x_test)),label='pred')\n",
    "plt.plot(np.array(y_test), label='True')\n",
    "plt.legend()\n",
    "plt.show()"
   ]
  },
  {
   "cell_type": "code",
   "execution_count": 36,
   "id": "c7330b1c",
   "metadata": {},
   "outputs": [
    {
     "name": "stdout",
     "output_type": "stream",
     "text": [
      "2.0789272828283463\n"
     ]
    }
   ],
   "source": [
    "from sklearn.metrics import mean_squared_error\n",
    "mse1 = mean_squared_error(y_true = y_test, y_pred = fit_train1.predict(x_test))\n",
    "print(mse1)"
   ]
  },
  {
   "cell_type": "code",
   "execution_count": 38,
   "id": "5f045aa4",
   "metadata": {},
   "outputs": [
    {
     "data": {
      "text/plain": [
       "array([[3504.,   18.,   70.,  130.,   18.],\n",
       "       [3693.,   15.,   70.,  165.,   15.],\n",
       "       [3436.,   18.,   70.,  150.,   18.],\n",
       "       ...,\n",
       "       [2295.,   32.,   82.,   84.,   32.],\n",
       "       [2625.,   28.,   82.,   79.,   28.],\n",
       "       [2720.,   31.,   82.,   82.,   31.]])"
      ]
     },
     "execution_count": 38,
     "metadata": {},
     "output_type": "execute_result"
    }
   ],
   "source": [
    "df_median =pd.concat([df_sp ,df['mpg']],axis=1)\n",
    "imp_median = SimpleImputer(missing_values=np.nan, strategy='median')\n",
    "df_median =imp_median.fit_transform(df_mean)\n",
    "df_median"
   ]
  },
  {
   "cell_type": "code",
   "execution_count": 40,
   "id": "69eec6b1",
   "metadata": {},
   "outputs": [
    {
     "data": {
      "text/html": [
       "<div>\n",
       "<style scoped>\n",
       "    .dataframe tbody tr th:only-of-type {\n",
       "        vertical-align: middle;\n",
       "    }\n",
       "\n",
       "    .dataframe tbody tr th {\n",
       "        vertical-align: top;\n",
       "    }\n",
       "\n",
       "    .dataframe thead th {\n",
       "        text-align: right;\n",
       "    }\n",
       "</style>\n",
       "<table border=\"1\" class=\"dataframe\">\n",
       "  <thead>\n",
       "    <tr style=\"text-align: right;\">\n",
       "      <th></th>\n",
       "      <th>weight</th>\n",
       "      <th>mpg</th>\n",
       "      <th>model_year</th>\n",
       "      <th>horsepower</th>\n",
       "      <th>displacement</th>\n",
       "    </tr>\n",
       "  </thead>\n",
       "  <tbody>\n",
       "    <tr>\n",
       "      <th>0</th>\n",
       "      <td>3504.0</td>\n",
       "      <td>18.0</td>\n",
       "      <td>70.0</td>\n",
       "      <td>130.0</td>\n",
       "      <td>18.0</td>\n",
       "    </tr>\n",
       "    <tr>\n",
       "      <th>1</th>\n",
       "      <td>3693.0</td>\n",
       "      <td>15.0</td>\n",
       "      <td>70.0</td>\n",
       "      <td>165.0</td>\n",
       "      <td>15.0</td>\n",
       "    </tr>\n",
       "    <tr>\n",
       "      <th>2</th>\n",
       "      <td>3436.0</td>\n",
       "      <td>18.0</td>\n",
       "      <td>70.0</td>\n",
       "      <td>150.0</td>\n",
       "      <td>18.0</td>\n",
       "    </tr>\n",
       "    <tr>\n",
       "      <th>3</th>\n",
       "      <td>3433.0</td>\n",
       "      <td>16.0</td>\n",
       "      <td>70.0</td>\n",
       "      <td>150.0</td>\n",
       "      <td>16.0</td>\n",
       "    </tr>\n",
       "    <tr>\n",
       "      <th>4</th>\n",
       "      <td>3449.0</td>\n",
       "      <td>17.0</td>\n",
       "      <td>70.0</td>\n",
       "      <td>140.0</td>\n",
       "      <td>17.0</td>\n",
       "    </tr>\n",
       "    <tr>\n",
       "      <th>...</th>\n",
       "      <td>...</td>\n",
       "      <td>...</td>\n",
       "      <td>...</td>\n",
       "      <td>...</td>\n",
       "      <td>...</td>\n",
       "    </tr>\n",
       "    <tr>\n",
       "      <th>393</th>\n",
       "      <td>2790.0</td>\n",
       "      <td>27.0</td>\n",
       "      <td>82.0</td>\n",
       "      <td>86.0</td>\n",
       "      <td>27.0</td>\n",
       "    </tr>\n",
       "    <tr>\n",
       "      <th>394</th>\n",
       "      <td>2130.0</td>\n",
       "      <td>44.0</td>\n",
       "      <td>82.0</td>\n",
       "      <td>52.0</td>\n",
       "      <td>44.0</td>\n",
       "    </tr>\n",
       "    <tr>\n",
       "      <th>395</th>\n",
       "      <td>2295.0</td>\n",
       "      <td>32.0</td>\n",
       "      <td>82.0</td>\n",
       "      <td>84.0</td>\n",
       "      <td>32.0</td>\n",
       "    </tr>\n",
       "    <tr>\n",
       "      <th>396</th>\n",
       "      <td>2625.0</td>\n",
       "      <td>28.0</td>\n",
       "      <td>82.0</td>\n",
       "      <td>79.0</td>\n",
       "      <td>28.0</td>\n",
       "    </tr>\n",
       "    <tr>\n",
       "      <th>397</th>\n",
       "      <td>2720.0</td>\n",
       "      <td>31.0</td>\n",
       "      <td>82.0</td>\n",
       "      <td>82.0</td>\n",
       "      <td>31.0</td>\n",
       "    </tr>\n",
       "  </tbody>\n",
       "</table>\n",
       "<p>398 rows × 5 columns</p>\n",
       "</div>"
      ],
      "text/plain": [
       "     weight   mpg  model_year  horsepower  displacement\n",
       "0    3504.0  18.0        70.0       130.0          18.0\n",
       "1    3693.0  15.0        70.0       165.0          15.0\n",
       "2    3436.0  18.0        70.0       150.0          18.0\n",
       "3    3433.0  16.0        70.0       150.0          16.0\n",
       "4    3449.0  17.0        70.0       140.0          17.0\n",
       "..      ...   ...         ...         ...           ...\n",
       "393  2790.0  27.0        82.0        86.0          27.0\n",
       "394  2130.0  44.0        82.0        52.0          44.0\n",
       "395  2295.0  32.0        82.0        84.0          32.0\n",
       "396  2625.0  28.0        82.0        79.0          28.0\n",
       "397  2720.0  31.0        82.0        82.0          31.0\n",
       "\n",
       "[398 rows x 5 columns]"
      ]
     },
     "execution_count": 40,
     "metadata": {},
     "output_type": "execute_result"
    }
   ],
   "source": [
    "df_median=pd.DataFrame(df_median)\n",
    "df_median.columns = ['weight','mpg','model_year','horsepower','displacement']\n",
    "df_median"
   ]
  },
  {
   "cell_type": "code",
   "execution_count": 41,
   "id": "aecda21b",
   "metadata": {},
   "outputs": [
    {
     "data": {
      "image/png": "[encoded data removed]",
      "text/plain": [
       "<Figure size 640x480 with 1 Axes>"
      ]
     },
     "metadata": {},
     "output_type": "display_data"
    }
   ],
   "source": [
    "from sklearn.model_selection import train_test_split\n",
    "\n",
    "x_train, x_test, y_train, y_test = train_test_split(df_median.drop('mpg',axis=1), df_median['mpg'],test_size=0.3, random_state=111)\n",
    "\n",
    "import statsmodels.api as sm #회귀 분석 모듈\n",
    "import matplotlib.pyplot as plt # 시각화 모듈\n",
    "\n",
    "fit_train2 = sm.OLS(y_train, x_train) # 회귀분석 진행하기 (다중회귀)\n",
    "fit_train2 = fit_train2.fit() # 회귀분석 Fit 모델\n",
    "\n",
    "plt.plot(np.array(fit_train2.predict(x_test)),label='pred')\n",
    "plt.plot(np.array(y_test), label='True')\n",
    "plt.legend()\n",
    "plt.show()"
   ]
  },
  {
   "cell_type": "code",
   "execution_count": 42,
   "id": "0c837fd3",
   "metadata": {},
   "outputs": [
    {
     "name": "stdout",
     "output_type": "stream",
     "text": [
      "2.0789272828283463\n"
     ]
    }
   ],
   "source": [
    "from sklearn.metrics import mean_squared_error\n",
    "mse2 = mean_squared_error(y_true = y_test, y_pred = fit_train2.predict(x_test))\n",
    "print(mse2)"
   ]
  },
  {
   "cell_type": "code",
   "execution_count": null,
   "id": "5f6d4b0a",
   "metadata": {},
   "outputs": [],
   "source": []
  }
 ],
 "metadata": {
  "kernelspec": {
   "display_name": "Python 3 (ipykernel)",
   "language": "python",
   "name": "python3"
  },
  "language_info": {
   "codemirror_mode": {
    "name": "ipython",
    "version": 3
   },
   "file_extension": ".py",
   "mimetype": "text/x-python",
   "name": "python",
   "nbconvert_exporter": "python",
   "pygments_lexer": "ipython3",
   "version": "3.11.4"
  }
 },
 "nbformat": 4,
 "nbformat_minor": 5
}
